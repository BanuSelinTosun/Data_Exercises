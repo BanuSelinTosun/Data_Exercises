{
 "cells": [
  {
   "cell_type": "code",
   "execution_count": 0,
   "metadata": {
    "colab": {
     "autoexec": {
      "startup": false,
      "wait_interval": 0
     }
    },
    "colab_type": "code",
    "id": "SOZB3Ah1dvSQ"
   },
   "outputs": [],
   "source": [
    "import pandas as pd\n",
    "import numpy as np\n",
    "from sklearn.model_selection import train_test_split\n",
    "from sklearn.ensemble import RandomForestClassifier\n",
    "from sklearn.ensemble import GradientBoostingClassifier\n",
    "from pandas.plotting import scatter_matrix\n",
    "import matplotlib.pyplot as plt\n",
    "%matplotlib inline"
   ]
  },
  {
   "cell_type": "code",
   "execution_count": 0,
   "metadata": {
    "colab": {
     "autoexec": {
      "startup": false,
      "wait_interval": 0
     }
    },
    "colab_type": "code",
    "id": "h1FcrCLedvSc"
   },
   "outputs": [],
   "source": [
    "import sympy "
   ]
  },
  {
   "cell_type": "code",
   "execution_count": 0,
   "metadata": {
    "colab": {
     "autoexec": {
      "startup": false,
      "wait_interval": 0
     }
    },
    "colab_type": "code",
    "id": "tBNKobD9dvSn"
   },
   "outputs": [],
   "source": [
    "from sklearn.preprocessing import Imputer"
   ]
  },
  {
   "cell_type": "code",
   "execution_count": 0,
   "metadata": {
    "colab": {
     "autoexec": {
      "startup": false,
      "wait_interval": 0
     }
    },
    "colab_type": "code",
    "id": "bRUvaacodvYY"
   },
   "outputs": [],
   "source": [
    "from sklearn.metrics import confusion_matrix\n",
    "import itertools\n",
    "import matplotlib.pyplot as plt"
   ]
  },
  {
   "cell_type": "code",
   "execution_count": 0,
   "metadata": {
    "colab": {
     "autoexec": {
      "startup": false,
      "wait_interval": 0
     },
     "output_extras": [
      {}
     ]
    },
    "colab_type": "code",
    "id": "fTz6QcBtdvS0",
    "outputId": "a04e5a3c-99d5-4042-c591-690a576f6849"
   },
   "outputs": [
    {
     "data": {
      "text/html": [
       "<div>\n",
       "<style>\n",
       "    .dataframe thead tr:only-child th {\n",
       "        text-align: right;\n",
       "    }\n",
       "\n",
       "    .dataframe thead th {\n",
       "        text-align: left;\n",
       "    }\n",
       "\n",
       "    .dataframe tbody tr th {\n",
       "        vertical-align: top;\n",
       "    }\n",
       "</style>\n",
       "<table border=\"1\" class=\"dataframe\">\n",
       "  <thead>\n",
       "    <tr style=\"text-align: right;\">\n",
       "      <th></th>\n",
       "      <th>0</th>\n",
       "      <th>1</th>\n",
       "      <th>2</th>\n",
       "      <th>3</th>\n",
       "      <th>4</th>\n",
       "      <th>5</th>\n",
       "      <th>6</th>\n",
       "      <th>7</th>\n",
       "      <th>8</th>\n",
       "      <th>9</th>\n",
       "      <th>10</th>\n",
       "    </tr>\n",
       "  </thead>\n",
       "  <tbody>\n",
       "    <tr>\n",
       "      <th>0</th>\n",
       "      <td>1000025</td>\n",
       "      <td>5</td>\n",
       "      <td>1</td>\n",
       "      <td>1</td>\n",
       "      <td>1</td>\n",
       "      <td>2</td>\n",
       "      <td>1</td>\n",
       "      <td>3</td>\n",
       "      <td>1</td>\n",
       "      <td>1</td>\n",
       "      <td>2</td>\n",
       "    </tr>\n",
       "    <tr>\n",
       "      <th>1</th>\n",
       "      <td>1002945</td>\n",
       "      <td>5</td>\n",
       "      <td>4</td>\n",
       "      <td>4</td>\n",
       "      <td>5</td>\n",
       "      <td>7</td>\n",
       "      <td>10</td>\n",
       "      <td>3</td>\n",
       "      <td>2</td>\n",
       "      <td>1</td>\n",
       "      <td>2</td>\n",
       "    </tr>\n",
       "    <tr>\n",
       "      <th>2</th>\n",
       "      <td>1015425</td>\n",
       "      <td>3</td>\n",
       "      <td>1</td>\n",
       "      <td>1</td>\n",
       "      <td>1</td>\n",
       "      <td>2</td>\n",
       "      <td>2</td>\n",
       "      <td>3</td>\n",
       "      <td>1</td>\n",
       "      <td>1</td>\n",
       "      <td>2</td>\n",
       "    </tr>\n",
       "    <tr>\n",
       "      <th>3</th>\n",
       "      <td>1016277</td>\n",
       "      <td>6</td>\n",
       "      <td>8</td>\n",
       "      <td>8</td>\n",
       "      <td>1</td>\n",
       "      <td>3</td>\n",
       "      <td>4</td>\n",
       "      <td>3</td>\n",
       "      <td>7</td>\n",
       "      <td>1</td>\n",
       "      <td>2</td>\n",
       "    </tr>\n",
       "    <tr>\n",
       "      <th>4</th>\n",
       "      <td>1017023</td>\n",
       "      <td>4</td>\n",
       "      <td>1</td>\n",
       "      <td>1</td>\n",
       "      <td>3</td>\n",
       "      <td>2</td>\n",
       "      <td>1</td>\n",
       "      <td>3</td>\n",
       "      <td>1</td>\n",
       "      <td>1</td>\n",
       "      <td>2</td>\n",
       "    </tr>\n",
       "    <tr>\n",
       "      <th>5</th>\n",
       "      <td>1017122</td>\n",
       "      <td>8</td>\n",
       "      <td>10</td>\n",
       "      <td>10</td>\n",
       "      <td>8</td>\n",
       "      <td>7</td>\n",
       "      <td>10</td>\n",
       "      <td>9</td>\n",
       "      <td>7</td>\n",
       "      <td>1</td>\n",
       "      <td>4</td>\n",
       "    </tr>\n",
       "    <tr>\n",
       "      <th>6</th>\n",
       "      <td>1018099</td>\n",
       "      <td>1</td>\n",
       "      <td>1</td>\n",
       "      <td>1</td>\n",
       "      <td>1</td>\n",
       "      <td>2</td>\n",
       "      <td>10</td>\n",
       "      <td>3</td>\n",
       "      <td>1</td>\n",
       "      <td>1</td>\n",
       "      <td>2</td>\n",
       "    </tr>\n",
       "    <tr>\n",
       "      <th>7</th>\n",
       "      <td>1018561</td>\n",
       "      <td>2</td>\n",
       "      <td>1</td>\n",
       "      <td>2</td>\n",
       "      <td>1</td>\n",
       "      <td>2</td>\n",
       "      <td>1</td>\n",
       "      <td>3</td>\n",
       "      <td>1</td>\n",
       "      <td>1</td>\n",
       "      <td>2</td>\n",
       "    </tr>\n",
       "    <tr>\n",
       "      <th>8</th>\n",
       "      <td>1033078</td>\n",
       "      <td>2</td>\n",
       "      <td>1</td>\n",
       "      <td>1</td>\n",
       "      <td>1</td>\n",
       "      <td>2</td>\n",
       "      <td>1</td>\n",
       "      <td>1</td>\n",
       "      <td>1</td>\n",
       "      <td>5</td>\n",
       "      <td>2</td>\n",
       "    </tr>\n",
       "    <tr>\n",
       "      <th>9</th>\n",
       "      <td>1033078</td>\n",
       "      <td>4</td>\n",
       "      <td>2</td>\n",
       "      <td>1</td>\n",
       "      <td>1</td>\n",
       "      <td>2</td>\n",
       "      <td>1</td>\n",
       "      <td>2</td>\n",
       "      <td>1</td>\n",
       "      <td>1</td>\n",
       "      <td>2</td>\n",
       "    </tr>\n",
       "  </tbody>\n",
       "</table>\n",
       "</div>"
      ],
      "text/plain": [
       "        0   1   2   3   4   5   6   7   8   9   10\n",
       "0  1000025   5   1   1   1   2   1   3   1   1   2\n",
       "1  1002945   5   4   4   5   7  10   3   2   1   2\n",
       "2  1015425   3   1   1   1   2   2   3   1   1   2\n",
       "3  1016277   6   8   8   1   3   4   3   7   1   2\n",
       "4  1017023   4   1   1   3   2   1   3   1   1   2\n",
       "5  1017122   8  10  10   8   7  10   9   7   1   4\n",
       "6  1018099   1   1   1   1   2  10   3   1   1   2\n",
       "7  1018561   2   1   2   1   2   1   3   1   1   2\n",
       "8  1033078   2   1   1   1   2   1   1   1   5   2\n",
       "9  1033078   4   2   1   1   2   1   2   1   1   2"
      ]
     },
     "execution_count": 4,
     "metadata": {
      "tags": []
     },
     "output_type": "execute_result"
    }
   ],
   "source": [
    "data = pd.read_csv('/home/selintosun/Downloads/breast-cancer-data.csv', header=None)\n",
    "data.head(10)"
   ]
  },
  {
   "cell_type": "code",
   "execution_count": 0,
   "metadata": {
    "colab": {
     "autoexec": {
      "startup": false,
      "wait_interval": 0
     }
    },
    "colab_type": "code",
    "id": "81A5Gf5KdvTB"
   },
   "outputs": [],
   "source": [
    "column_names = ['Sample_id', 'Clump_Thickness', 'Unif_Cell_Size', 'Unif_Cell_Shape', 'Marginal_Adhesion', 'Single_Epithelial_Cell_Size', 'Bare_Nuclei', 'Bland_Chromatin', 'Normal_Nucleoli', 'Mitoses', 'Class']"
   ]
  },
  {
   "cell_type": "code",
   "execution_count": 0,
   "metadata": {
    "colab": {
     "autoexec": {
      "startup": false,
      "wait_interval": 0
     },
     "output_extras": [
      {}
     ]
    },
    "colab_type": "code",
    "id": "WqmtDn-GdvTH",
    "outputId": "9e0cb3bc-cb0a-484f-d0f3-63195d96b213"
   },
   "outputs": [
    {
     "data": {
      "text/html": [
       "<div>\n",
       "<style>\n",
       "    .dataframe thead tr:only-child th {\n",
       "        text-align: right;\n",
       "    }\n",
       "\n",
       "    .dataframe thead th {\n",
       "        text-align: left;\n",
       "    }\n",
       "\n",
       "    .dataframe tbody tr th {\n",
       "        vertical-align: top;\n",
       "    }\n",
       "</style>\n",
       "<table border=\"1\" class=\"dataframe\">\n",
       "  <thead>\n",
       "    <tr style=\"text-align: right;\">\n",
       "      <th></th>\n",
       "      <th>Sample_id</th>\n",
       "      <th>Clump_Thickness</th>\n",
       "      <th>Unif_Cell_Size</th>\n",
       "      <th>Unif_Cell_Shape</th>\n",
       "      <th>Marginal_Adhesion</th>\n",
       "      <th>Single_Epithelial_Cell_Size</th>\n",
       "      <th>Bare_Nuclei</th>\n",
       "      <th>Bland_Chromatin</th>\n",
       "      <th>Normal_Nucleoli</th>\n",
       "      <th>Mitoses</th>\n",
       "      <th>Class</th>\n",
       "    </tr>\n",
       "  </thead>\n",
       "  <tbody>\n",
       "    <tr>\n",
       "      <th>0</th>\n",
       "      <td>1000025</td>\n",
       "      <td>5</td>\n",
       "      <td>1</td>\n",
       "      <td>1</td>\n",
       "      <td>1</td>\n",
       "      <td>2</td>\n",
       "      <td>1</td>\n",
       "      <td>3</td>\n",
       "      <td>1</td>\n",
       "      <td>1</td>\n",
       "      <td>2</td>\n",
       "    </tr>\n",
       "    <tr>\n",
       "      <th>1</th>\n",
       "      <td>1002945</td>\n",
       "      <td>5</td>\n",
       "      <td>4</td>\n",
       "      <td>4</td>\n",
       "      <td>5</td>\n",
       "      <td>7</td>\n",
       "      <td>10</td>\n",
       "      <td>3</td>\n",
       "      <td>2</td>\n",
       "      <td>1</td>\n",
       "      <td>2</td>\n",
       "    </tr>\n",
       "    <tr>\n",
       "      <th>2</th>\n",
       "      <td>1015425</td>\n",
       "      <td>3</td>\n",
       "      <td>1</td>\n",
       "      <td>1</td>\n",
       "      <td>1</td>\n",
       "      <td>2</td>\n",
       "      <td>2</td>\n",
       "      <td>3</td>\n",
       "      <td>1</td>\n",
       "      <td>1</td>\n",
       "      <td>2</td>\n",
       "    </tr>\n",
       "    <tr>\n",
       "      <th>3</th>\n",
       "      <td>1016277</td>\n",
       "      <td>6</td>\n",
       "      <td>8</td>\n",
       "      <td>8</td>\n",
       "      <td>1</td>\n",
       "      <td>3</td>\n",
       "      <td>4</td>\n",
       "      <td>3</td>\n",
       "      <td>7</td>\n",
       "      <td>1</td>\n",
       "      <td>2</td>\n",
       "    </tr>\n",
       "    <tr>\n",
       "      <th>4</th>\n",
       "      <td>1017023</td>\n",
       "      <td>4</td>\n",
       "      <td>1</td>\n",
       "      <td>1</td>\n",
       "      <td>3</td>\n",
       "      <td>2</td>\n",
       "      <td>1</td>\n",
       "      <td>3</td>\n",
       "      <td>1</td>\n",
       "      <td>1</td>\n",
       "      <td>2</td>\n",
       "    </tr>\n",
       "    <tr>\n",
       "      <th>5</th>\n",
       "      <td>1017122</td>\n",
       "      <td>8</td>\n",
       "      <td>10</td>\n",
       "      <td>10</td>\n",
       "      <td>8</td>\n",
       "      <td>7</td>\n",
       "      <td>10</td>\n",
       "      <td>9</td>\n",
       "      <td>7</td>\n",
       "      <td>1</td>\n",
       "      <td>4</td>\n",
       "    </tr>\n",
       "    <tr>\n",
       "      <th>6</th>\n",
       "      <td>1018099</td>\n",
       "      <td>1</td>\n",
       "      <td>1</td>\n",
       "      <td>1</td>\n",
       "      <td>1</td>\n",
       "      <td>2</td>\n",
       "      <td>10</td>\n",
       "      <td>3</td>\n",
       "      <td>1</td>\n",
       "      <td>1</td>\n",
       "      <td>2</td>\n",
       "    </tr>\n",
       "    <tr>\n",
       "      <th>7</th>\n",
       "      <td>1018561</td>\n",
       "      <td>2</td>\n",
       "      <td>1</td>\n",
       "      <td>2</td>\n",
       "      <td>1</td>\n",
       "      <td>2</td>\n",
       "      <td>1</td>\n",
       "      <td>3</td>\n",
       "      <td>1</td>\n",
       "      <td>1</td>\n",
       "      <td>2</td>\n",
       "    </tr>\n",
       "    <tr>\n",
       "      <th>8</th>\n",
       "      <td>1033078</td>\n",
       "      <td>2</td>\n",
       "      <td>1</td>\n",
       "      <td>1</td>\n",
       "      <td>1</td>\n",
       "      <td>2</td>\n",
       "      <td>1</td>\n",
       "      <td>1</td>\n",
       "      <td>1</td>\n",
       "      <td>5</td>\n",
       "      <td>2</td>\n",
       "    </tr>\n",
       "    <tr>\n",
       "      <th>9</th>\n",
       "      <td>1033078</td>\n",
       "      <td>4</td>\n",
       "      <td>2</td>\n",
       "      <td>1</td>\n",
       "      <td>1</td>\n",
       "      <td>2</td>\n",
       "      <td>1</td>\n",
       "      <td>2</td>\n",
       "      <td>1</td>\n",
       "      <td>1</td>\n",
       "      <td>2</td>\n",
       "    </tr>\n",
       "  </tbody>\n",
       "</table>\n",
       "</div>"
      ],
      "text/plain": [
       "   Sample_id  Clump_Thickness  Unif_Cell_Size  Unif_Cell_Shape  \\\n",
       "0    1000025                5               1                1   \n",
       "1    1002945                5               4                4   \n",
       "2    1015425                3               1                1   \n",
       "3    1016277                6               8                8   \n",
       "4    1017023                4               1                1   \n",
       "5    1017122                8              10               10   \n",
       "6    1018099                1               1                1   \n",
       "7    1018561                2               1                2   \n",
       "8    1033078                2               1                1   \n",
       "9    1033078                4               2                1   \n",
       "\n",
       "   Marginal_Adhesion  Single_Epithelial_Cell_Size Bare_Nuclei  \\\n",
       "0                  1                            2           1   \n",
       "1                  5                            7          10   \n",
       "2                  1                            2           2   \n",
       "3                  1                            3           4   \n",
       "4                  3                            2           1   \n",
       "5                  8                            7          10   \n",
       "6                  1                            2          10   \n",
       "7                  1                            2           1   \n",
       "8                  1                            2           1   \n",
       "9                  1                            2           1   \n",
       "\n",
       "   Bland_Chromatin  Normal_Nucleoli  Mitoses  Class  \n",
       "0                3                1        1      2  \n",
       "1                3                2        1      2  \n",
       "2                3                1        1      2  \n",
       "3                3                7        1      2  \n",
       "4                3                1        1      2  \n",
       "5                9                7        1      4  \n",
       "6                3                1        1      2  \n",
       "7                3                1        1      2  \n",
       "8                1                1        5      2  \n",
       "9                2                1        1      2  "
      ]
     },
     "execution_count": 6,
     "metadata": {
      "tags": []
     },
     "output_type": "execute_result"
    }
   ],
   "source": [
    "data.columns = column_names\n",
    "data.head(10)"
   ]
  },
  {
   "cell_type": "code",
   "execution_count": 0,
   "metadata": {
    "colab": {
     "autoexec": {
      "startup": false,
      "wait_interval": 0
     },
     "output_extras": [
      {}
     ]
    },
    "colab_type": "code",
    "id": "u4ELipitdvTU",
    "outputId": "fed1a3fc-c330-4466-b25e-8518f2f72397"
   },
   "outputs": [
    {
     "name": "stdout",
     "output_type": "stream",
     "text": [
      "<class 'pandas.core.frame.DataFrame'>\n",
      "RangeIndex: 699 entries, 0 to 698\n",
      "Data columns (total 11 columns):\n",
      "Sample_id                      699 non-null int64\n",
      "Clump_Thickness                699 non-null int64\n",
      "Unif_Cell_Size                 699 non-null int64\n",
      "Unif_Cell_Shape                699 non-null int64\n",
      "Marginal_Adhesion              699 non-null int64\n",
      "Single_Epithelial_Cell_Size    699 non-null int64\n",
      "Bare_Nuclei                    699 non-null object\n",
      "Bland_Chromatin                699 non-null int64\n",
      "Normal_Nucleoli                699 non-null int64\n",
      "Mitoses                        699 non-null int64\n",
      "Class                          699 non-null int64\n",
      "dtypes: int64(10), object(1)\n",
      "memory usage: 60.1+ KB\n"
     ]
    }
   ],
   "source": [
    "data.info()"
   ]
  },
  {
   "cell_type": "code",
   "execution_count": 0,
   "metadata": {
    "colab": {
     "autoexec": {
      "startup": false,
      "wait_interval": 0
     },
     "output_extras": [
      {}
     ]
    },
    "colab_type": "code",
    "id": "SlevEqqmdvTi",
    "outputId": "482d3453-e507-413a-e5b7-5d92ca3740fe"
   },
   "outputs": [
    {
     "data": {
      "text/plain": [
       "count     699\n",
       "unique     11\n",
       "top         1\n",
       "freq      402\n",
       "Name: Bare_Nuclei, dtype: object"
      ]
     },
     "execution_count": 8,
     "metadata": {
      "tags": []
     },
     "output_type": "execute_result"
    }
   ],
   "source": [
    "data.Bare_Nuclei.describe()"
   ]
  },
  {
   "cell_type": "code",
   "execution_count": 0,
   "metadata": {
    "colab": {
     "autoexec": {
      "startup": false,
      "wait_interval": 0
     },
     "output_extras": [
      {}
     ]
    },
    "colab_type": "code",
    "id": "NdtsUMEQdvT9",
    "outputId": "a199f13d-8e7c-4f88-d926-9f93b303b014"
   },
   "outputs": [
    {
     "data": {
      "text/html": [
       "<div>\n",
       "<style>\n",
       "    .dataframe thead tr:only-child th {\n",
       "        text-align: right;\n",
       "    }\n",
       "\n",
       "    .dataframe thead th {\n",
       "        text-align: left;\n",
       "    }\n",
       "\n",
       "    .dataframe tbody tr th {\n",
       "        vertical-align: top;\n",
       "    }\n",
       "</style>\n",
       "<table border=\"1\" class=\"dataframe\">\n",
       "  <thead>\n",
       "    <tr style=\"text-align: right;\">\n",
       "      <th></th>\n",
       "      <th>Sample_id</th>\n",
       "      <th>Clump_Thickness</th>\n",
       "      <th>Unif_Cell_Size</th>\n",
       "      <th>Unif_Cell_Shape</th>\n",
       "      <th>Marginal_Adhesion</th>\n",
       "      <th>Single_Epithelial_Cell_Size</th>\n",
       "      <th>Bare_Nuclei</th>\n",
       "      <th>Bland_Chromatin</th>\n",
       "      <th>Normal_Nucleoli</th>\n",
       "      <th>Mitoses</th>\n",
       "      <th>Class</th>\n",
       "    </tr>\n",
       "  </thead>\n",
       "  <tbody>\n",
       "    <tr>\n",
       "      <th>23</th>\n",
       "      <td>1057013</td>\n",
       "      <td>8</td>\n",
       "      <td>4</td>\n",
       "      <td>5</td>\n",
       "      <td>1</td>\n",
       "      <td>2</td>\n",
       "      <td>?</td>\n",
       "      <td>7</td>\n",
       "      <td>3</td>\n",
       "      <td>1</td>\n",
       "      <td>4</td>\n",
       "    </tr>\n",
       "    <tr>\n",
       "      <th>40</th>\n",
       "      <td>1096800</td>\n",
       "      <td>6</td>\n",
       "      <td>6</td>\n",
       "      <td>6</td>\n",
       "      <td>9</td>\n",
       "      <td>6</td>\n",
       "      <td>?</td>\n",
       "      <td>7</td>\n",
       "      <td>8</td>\n",
       "      <td>1</td>\n",
       "      <td>2</td>\n",
       "    </tr>\n",
       "    <tr>\n",
       "      <th>139</th>\n",
       "      <td>1183246</td>\n",
       "      <td>1</td>\n",
       "      <td>1</td>\n",
       "      <td>1</td>\n",
       "      <td>1</td>\n",
       "      <td>1</td>\n",
       "      <td>?</td>\n",
       "      <td>2</td>\n",
       "      <td>1</td>\n",
       "      <td>1</td>\n",
       "      <td>2</td>\n",
       "    </tr>\n",
       "    <tr>\n",
       "      <th>145</th>\n",
       "      <td>1184840</td>\n",
       "      <td>1</td>\n",
       "      <td>1</td>\n",
       "      <td>3</td>\n",
       "      <td>1</td>\n",
       "      <td>2</td>\n",
       "      <td>?</td>\n",
       "      <td>2</td>\n",
       "      <td>1</td>\n",
       "      <td>1</td>\n",
       "      <td>2</td>\n",
       "    </tr>\n",
       "    <tr>\n",
       "      <th>158</th>\n",
       "      <td>1193683</td>\n",
       "      <td>1</td>\n",
       "      <td>1</td>\n",
       "      <td>2</td>\n",
       "      <td>1</td>\n",
       "      <td>3</td>\n",
       "      <td>?</td>\n",
       "      <td>1</td>\n",
       "      <td>1</td>\n",
       "      <td>1</td>\n",
       "      <td>2</td>\n",
       "    </tr>\n",
       "    <tr>\n",
       "      <th>164</th>\n",
       "      <td>1197510</td>\n",
       "      <td>5</td>\n",
       "      <td>1</td>\n",
       "      <td>1</td>\n",
       "      <td>1</td>\n",
       "      <td>2</td>\n",
       "      <td>?</td>\n",
       "      <td>3</td>\n",
       "      <td>1</td>\n",
       "      <td>1</td>\n",
       "      <td>2</td>\n",
       "    </tr>\n",
       "    <tr>\n",
       "      <th>235</th>\n",
       "      <td>1241232</td>\n",
       "      <td>3</td>\n",
       "      <td>1</td>\n",
       "      <td>4</td>\n",
       "      <td>1</td>\n",
       "      <td>2</td>\n",
       "      <td>?</td>\n",
       "      <td>3</td>\n",
       "      <td>1</td>\n",
       "      <td>1</td>\n",
       "      <td>2</td>\n",
       "    </tr>\n",
       "    <tr>\n",
       "      <th>249</th>\n",
       "      <td>169356</td>\n",
       "      <td>3</td>\n",
       "      <td>1</td>\n",
       "      <td>1</td>\n",
       "      <td>1</td>\n",
       "      <td>2</td>\n",
       "      <td>?</td>\n",
       "      <td>3</td>\n",
       "      <td>1</td>\n",
       "      <td>1</td>\n",
       "      <td>2</td>\n",
       "    </tr>\n",
       "    <tr>\n",
       "      <th>275</th>\n",
       "      <td>432809</td>\n",
       "      <td>3</td>\n",
       "      <td>1</td>\n",
       "      <td>3</td>\n",
       "      <td>1</td>\n",
       "      <td>2</td>\n",
       "      <td>?</td>\n",
       "      <td>2</td>\n",
       "      <td>1</td>\n",
       "      <td>1</td>\n",
       "      <td>2</td>\n",
       "    </tr>\n",
       "    <tr>\n",
       "      <th>292</th>\n",
       "      <td>563649</td>\n",
       "      <td>8</td>\n",
       "      <td>8</td>\n",
       "      <td>8</td>\n",
       "      <td>1</td>\n",
       "      <td>2</td>\n",
       "      <td>?</td>\n",
       "      <td>6</td>\n",
       "      <td>10</td>\n",
       "      <td>1</td>\n",
       "      <td>4</td>\n",
       "    </tr>\n",
       "    <tr>\n",
       "      <th>294</th>\n",
       "      <td>606140</td>\n",
       "      <td>1</td>\n",
       "      <td>1</td>\n",
       "      <td>1</td>\n",
       "      <td>1</td>\n",
       "      <td>2</td>\n",
       "      <td>?</td>\n",
       "      <td>2</td>\n",
       "      <td>1</td>\n",
       "      <td>1</td>\n",
       "      <td>2</td>\n",
       "    </tr>\n",
       "    <tr>\n",
       "      <th>297</th>\n",
       "      <td>61634</td>\n",
       "      <td>5</td>\n",
       "      <td>4</td>\n",
       "      <td>3</td>\n",
       "      <td>1</td>\n",
       "      <td>2</td>\n",
       "      <td>?</td>\n",
       "      <td>2</td>\n",
       "      <td>3</td>\n",
       "      <td>1</td>\n",
       "      <td>2</td>\n",
       "    </tr>\n",
       "    <tr>\n",
       "      <th>315</th>\n",
       "      <td>704168</td>\n",
       "      <td>4</td>\n",
       "      <td>6</td>\n",
       "      <td>5</td>\n",
       "      <td>6</td>\n",
       "      <td>7</td>\n",
       "      <td>?</td>\n",
       "      <td>4</td>\n",
       "      <td>9</td>\n",
       "      <td>1</td>\n",
       "      <td>2</td>\n",
       "    </tr>\n",
       "    <tr>\n",
       "      <th>321</th>\n",
       "      <td>733639</td>\n",
       "      <td>3</td>\n",
       "      <td>1</td>\n",
       "      <td>1</td>\n",
       "      <td>1</td>\n",
       "      <td>2</td>\n",
       "      <td>?</td>\n",
       "      <td>3</td>\n",
       "      <td>1</td>\n",
       "      <td>1</td>\n",
       "      <td>2</td>\n",
       "    </tr>\n",
       "    <tr>\n",
       "      <th>411</th>\n",
       "      <td>1238464</td>\n",
       "      <td>1</td>\n",
       "      <td>1</td>\n",
       "      <td>1</td>\n",
       "      <td>1</td>\n",
       "      <td>1</td>\n",
       "      <td>?</td>\n",
       "      <td>2</td>\n",
       "      <td>1</td>\n",
       "      <td>1</td>\n",
       "      <td>2</td>\n",
       "    </tr>\n",
       "    <tr>\n",
       "      <th>617</th>\n",
       "      <td>1057067</td>\n",
       "      <td>1</td>\n",
       "      <td>1</td>\n",
       "      <td>1</td>\n",
       "      <td>1</td>\n",
       "      <td>1</td>\n",
       "      <td>?</td>\n",
       "      <td>1</td>\n",
       "      <td>1</td>\n",
       "      <td>1</td>\n",
       "      <td>2</td>\n",
       "    </tr>\n",
       "  </tbody>\n",
       "</table>\n",
       "</div>"
      ],
      "text/plain": [
       "     Sample_id  Clump_Thickness  Unif_Cell_Size  Unif_Cell_Shape  \\\n",
       "23     1057013                8               4                5   \n",
       "40     1096800                6               6                6   \n",
       "139    1183246                1               1                1   \n",
       "145    1184840                1               1                3   \n",
       "158    1193683                1               1                2   \n",
       "164    1197510                5               1                1   \n",
       "235    1241232                3               1                4   \n",
       "249     169356                3               1                1   \n",
       "275     432809                3               1                3   \n",
       "292     563649                8               8                8   \n",
       "294     606140                1               1                1   \n",
       "297      61634                5               4                3   \n",
       "315     704168                4               6                5   \n",
       "321     733639                3               1                1   \n",
       "411    1238464                1               1                1   \n",
       "617    1057067                1               1                1   \n",
       "\n",
       "     Marginal_Adhesion  Single_Epithelial_Cell_Size Bare_Nuclei  \\\n",
       "23                   1                            2           ?   \n",
       "40                   9                            6           ?   \n",
       "139                  1                            1           ?   \n",
       "145                  1                            2           ?   \n",
       "158                  1                            3           ?   \n",
       "164                  1                            2           ?   \n",
       "235                  1                            2           ?   \n",
       "249                  1                            2           ?   \n",
       "275                  1                            2           ?   \n",
       "292                  1                            2           ?   \n",
       "294                  1                            2           ?   \n",
       "297                  1                            2           ?   \n",
       "315                  6                            7           ?   \n",
       "321                  1                            2           ?   \n",
       "411                  1                            1           ?   \n",
       "617                  1                            1           ?   \n",
       "\n",
       "     Bland_Chromatin  Normal_Nucleoli  Mitoses  Class  \n",
       "23                 7                3        1      4  \n",
       "40                 7                8        1      2  \n",
       "139                2                1        1      2  \n",
       "145                2                1        1      2  \n",
       "158                1                1        1      2  \n",
       "164                3                1        1      2  \n",
       "235                3                1        1      2  \n",
       "249                3                1        1      2  \n",
       "275                2                1        1      2  \n",
       "292                6               10        1      4  \n",
       "294                2                1        1      2  \n",
       "297                2                3        1      2  \n",
       "315                4                9        1      2  \n",
       "321                3                1        1      2  \n",
       "411                2                1        1      2  \n",
       "617                1                1        1      2  "
      ]
     },
     "execution_count": 9,
     "metadata": {
      "tags": []
     },
     "output_type": "execute_result"
    }
   ],
   "source": [
    "(data[pd.to_numeric(data['Bare_Nuclei'], errors='coerce').isnull()])"
   ]
  },
  {
   "cell_type": "code",
   "execution_count": 0,
   "metadata": {
    "colab": {
     "autoexec": {
      "startup": false,
      "wait_interval": 0
     }
    },
    "colab_type": "code",
    "id": "vvvX4e9rdvUH"
   },
   "outputs": [],
   "source": [
    "data['Bare_Nuclei_missing'] = (data['Bare_Nuclei'] == '?')*1"
   ]
  },
  {
   "cell_type": "code",
   "execution_count": 0,
   "metadata": {
    "colab": {
     "autoexec": {
      "startup": false,
      "wait_interval": 0
     },
     "output_extras": [
      {}
     ]
    },
    "colab_type": "code",
    "id": "Lr5ths5GdvUQ",
    "outputId": "a201c6ad-2052-49f2-d643-14f63cc7a7fe"
   },
   "outputs": [
    {
     "data": {
      "text/plain": [
       "16"
      ]
     },
     "execution_count": 11,
     "metadata": {
      "tags": []
     },
     "output_type": "execute_result"
    }
   ],
   "source": [
    "len(data[pd.to_numeric(data['Bare_Nuclei'], errors='coerce').isnull()])"
   ]
  },
  {
   "cell_type": "code",
   "execution_count": 0,
   "metadata": {
    "colab": {
     "autoexec": {
      "startup": false,
      "wait_interval": 0
     },
     "output_extras": [
      {}
     ]
    },
    "colab_type": "code",
    "id": "gVBREpYmdvUf",
    "outputId": "a8b8f4be-6b91-4332-9d73-20fd7c69a410"
   },
   "outputs": [
    {
     "data": {
      "text/plain": [
       "count     699\n",
       "unique     11\n",
       "top         1\n",
       "freq      402\n",
       "Name: Bare_Nuclei, dtype: object"
      ]
     },
     "execution_count": 12,
     "metadata": {
      "tags": []
     },
     "output_type": "execute_result"
    }
   ],
   "source": [
    "data.Bare_Nuclei.describe()"
   ]
  },
  {
   "cell_type": "code",
   "execution_count": 0,
   "metadata": {
    "colab": {
     "autoexec": {
      "startup": false,
      "wait_interval": 0
     },
     "output_extras": [
      {}
     ]
    },
    "colab_type": "code",
    "id": "XjGPFRYMdvUq",
    "outputId": "912fbbdb-7fa2-4ab0-dc5e-beabd2478cb0"
   },
   "outputs": [
    {
     "data": {
      "text/plain": [
       "1     402\n",
       "10    132\n",
       "5      30\n",
       "2      30\n",
       "3      28\n",
       "8      21\n",
       "4      19\n",
       "?      16\n",
       "9       9\n",
       "7       8\n",
       "6       4\n",
       "Name: Bare_Nuclei, dtype: int64"
      ]
     },
     "execution_count": 13,
     "metadata": {
      "tags": []
     },
     "output_type": "execute_result"
    }
   ],
   "source": [
    "data['Bare_Nuclei'].value_counts()"
   ]
  },
  {
   "cell_type": "code",
   "execution_count": 0,
   "metadata": {
    "colab": {
     "autoexec": {
      "startup": false,
      "wait_interval": 0
     }
    },
    "colab_type": "code",
    "id": "S6wTss7udvU7"
   },
   "outputs": [],
   "source": [
    "data['Bare_Nuclei'] = pd.to_numeric(data['Bare_Nuclei'], errors='coerce')"
   ]
  },
  {
   "cell_type": "code",
   "execution_count": 0,
   "metadata": {
    "colab": {
     "autoexec": {
      "startup": false,
      "wait_interval": 0
     },
     "output_extras": [
      {}
     ]
    },
    "colab_type": "code",
    "id": "p3wVZdygdvU_",
    "outputId": "941ed5f3-6af8-46fd-8f0c-924bdd2bbbc4"
   },
   "outputs": [
    {
     "data": {
      "text/plain": [
       "dtype('float64')"
      ]
     },
     "execution_count": 15,
     "metadata": {
      "tags": []
     },
     "output_type": "execute_result"
    }
   ],
   "source": [
    "data.Bare_Nuclei.dtype"
   ]
  },
  {
   "cell_type": "code",
   "execution_count": 0,
   "metadata": {
    "colab": {
     "autoexec": {
      "startup": false,
      "wait_interval": 0
     },
     "output_extras": [
      {}
     ]
    },
    "colab_type": "code",
    "id": "ruPskJmydvVJ",
    "outputId": "0c957eef-bf83-4840-80b5-f09ef6696005"
   },
   "outputs": [
    {
     "data": {
      "text/plain": [
       "count    683.000000\n",
       "mean       3.544656\n",
       "std        3.643857\n",
       "min        1.000000\n",
       "25%        1.000000\n",
       "50%        1.000000\n",
       "75%        6.000000\n",
       "max       10.000000\n",
       "Name: Bare_Nuclei, dtype: float64"
      ]
     },
     "execution_count": 16,
     "metadata": {
      "tags": []
     },
     "output_type": "execute_result"
    }
   ],
   "source": [
    "data.Bare_Nuclei.describe()"
   ]
  },
  {
   "cell_type": "code",
   "execution_count": 0,
   "metadata": {
    "colab": {
     "autoexec": {
      "startup": false,
      "wait_interval": 0
     },
     "output_extras": [
      {}
     ]
    },
    "colab_type": "code",
    "id": "mgh8TQROdvVc",
    "outputId": "febdc76a-288a-4810-8d75-00fe36039767"
   },
   "outputs": [
    {
     "name": "stdout",
     "output_type": "stream",
     "text": [
      "0       1.0\n",
      "1      10.0\n",
      "2       2.0\n",
      "3       4.0\n",
      "4       1.0\n",
      "5      10.0\n",
      "6      10.0\n",
      "7       1.0\n",
      "8       1.0\n",
      "9       1.0\n",
      "10      1.0\n",
      "11      1.0\n",
      "12      3.0\n",
      "13      3.0\n",
      "14      9.0\n",
      "15      1.0\n",
      "16      1.0\n",
      "17      1.0\n",
      "18     10.0\n",
      "19      1.0\n",
      "20     10.0\n",
      "21      7.0\n",
      "22      1.0\n",
      "23      NaN\n",
      "24      1.0\n",
      "25      7.0\n",
      "26      1.0\n",
      "27      1.0\n",
      "28      1.0\n",
      "29      1.0\n",
      "       ... \n",
      "669     5.0\n",
      "670     8.0\n",
      "671     1.0\n",
      "672     1.0\n",
      "673     1.0\n",
      "674     1.0\n",
      "675     1.0\n",
      "676     1.0\n",
      "677     1.0\n",
      "678     1.0\n",
      "679     1.0\n",
      "680    10.0\n",
      "681    10.0\n",
      "682     1.0\n",
      "683     1.0\n",
      "684     1.0\n",
      "685     1.0\n",
      "686     1.0\n",
      "687     1.0\n",
      "688     1.0\n",
      "689     1.0\n",
      "690     1.0\n",
      "691     5.0\n",
      "692     1.0\n",
      "693     1.0\n",
      "694     2.0\n",
      "695     1.0\n",
      "696     3.0\n",
      "697     4.0\n",
      "698     5.0\n",
      "Name: Bare_Nuclei, Length: 699, dtype: float64\n"
     ]
    }
   ],
   "source": [
    "print data['Bare_Nuclei']"
   ]
  },
  {
   "cell_type": "code",
   "execution_count": 0,
   "metadata": {
    "colab": {
     "autoexec": {
      "startup": false,
      "wait_interval": 0
     }
    },
    "colab_type": "code",
    "id": "5n0V_9yedvWE"
   },
   "outputs": [],
   "source": [
    "data.fillna(3.544656, inplace=True)"
   ]
  },
  {
   "cell_type": "code",
   "execution_count": 0,
   "metadata": {
    "colab": {
     "autoexec": {
      "startup": false,
      "wait_interval": 0
     }
    },
    "colab_type": "code",
    "id": "a0dMhrnTdvWM"
   },
   "outputs": [],
   "source": [
    "subdata = data[['Clump_Thickness', 'Unif_Cell_Size', 'Unif_Cell_Shape', 'Marginal_Adhesion', 'Single_Epithelial_Cell_Size', 'Bland_Chromatin', 'Normal_Nucleoli', 'Mitoses']]"
   ]
  },
  {
   "cell_type": "code",
   "execution_count": 0,
   "metadata": {
    "colab": {
     "autoexec": {
      "startup": false,
      "wait_interval": 0
     },
     "output_extras": [
      {}
     ]
    },
    "colab_type": "code",
    "id": "Fpm8j03VdvWS",
    "outputId": "8dc7e0af-9daa-4dbe-efe2-98cfeb51589c"
   },
   "outputs": [
    {
     "data": {
      "image/png": "[encoded data removed]",
      "text/plain": [
       "<matplotlib.figure.Figure at 0x7f44d6d1c990>"
      ]
     },
     "metadata": {
      "tags": []
     },
     "output_type": "display_data"
    }
   ],
   "source": [
    "scatter_matrix(subdata, alpha=0.2, figsize=(20, 20), diagonal='kde');\n",
    "# The below graph is showing cell size and cell shape are highly correlated. I will check for the other dependency. "
   ]
  },
  {
   "cell_type": "code",
   "execution_count": 0,
   "metadata": {
    "colab": {
     "autoexec": {
      "startup": false,
      "wait_interval": 0
     },
     "output_extras": [
      {}
     ]
    },
    "colab_type": "code",
    "id": "IQYY2sTHdvWe",
    "outputId": "0b6636bc-2e57-44b2-eb6e-3156a01569ad"
   },
   "outputs": [
    {
     "data": {
      "text/plain": [
       "[0, 1, 2, 3, 4, 5, 6, 7, 8, 9, 10, 11]"
      ]
     },
     "execution_count": 21,
     "metadata": {
      "tags": []
     },
     "output_type": "execute_result"
    }
   ],
   "source": [
    "reduced_form, inds = sympy.Matrix(data.values).rref()\n",
    "inds"
   ]
  },
  {
   "cell_type": "code",
   "execution_count": 0,
   "metadata": {
    "colab": {
     "autoexec": {
      "startup": false,
      "wait_interval": 0
     },
     "output_extras": [
      {}
     ]
    },
    "colab_type": "code",
    "id": "15YOY4_hdvWu",
    "outputId": "c5ec9cd3-bea6-4a3a-9de5-7339089dd503"
   },
   "outputs": [
    {
     "data": {
      "text/plain": [
       "699"
      ]
     },
     "execution_count": 22,
     "metadata": {
      "tags": []
     },
     "output_type": "execute_result"
    }
   ],
   "source": [
    "len(data.iloc[:, inds]) #seems like there is no direct collinearity. "
   ]
  },
  {
   "cell_type": "code",
   "execution_count": 0,
   "metadata": {
    "colab": {
     "autoexec": {
      "startup": false,
      "wait_interval": 0
     }
    },
    "colab_type": "code",
    "id": "wBbV9RppdvWz"
   },
   "outputs": [],
   "source": [
    "data = data.astype(\"float64\")"
   ]
  },
  {
   "cell_type": "code",
   "execution_count": 0,
   "metadata": {
    "colab": {
     "autoexec": {
      "startup": false,
      "wait_interval": 0
     },
     "output_extras": [
      {}
     ]
    },
    "colab_type": "code",
    "id": "SuyY-tgzdvW2",
    "outputId": "2f0d7807-1792-45ba-a480-19690b0287d3"
   },
   "outputs": [
    {
     "name": "stdout",
     "output_type": "stream",
     "text": [
      "<class 'pandas.core.frame.DataFrame'>\n",
      "RangeIndex: 699 entries, 0 to 698\n",
      "Data columns (total 12 columns):\n",
      "Sample_id                      699 non-null float64\n",
      "Clump_Thickness                699 non-null float64\n",
      "Unif_Cell_Size                 699 non-null float64\n",
      "Unif_Cell_Shape                699 non-null float64\n",
      "Marginal_Adhesion              699 non-null float64\n",
      "Single_Epithelial_Cell_Size    699 non-null float64\n",
      "Bare_Nuclei                    699 non-null float64\n",
      "Bland_Chromatin                699 non-null float64\n",
      "Normal_Nucleoli                699 non-null float64\n",
      "Mitoses                        699 non-null float64\n",
      "Class                          699 non-null float64\n",
      "Bare_Nuclei_missing            699 non-null float64\n",
      "dtypes: float64(12)\n",
      "memory usage: 65.6 KB\n"
     ]
    }
   ],
   "source": [
    "data.info()"
   ]
  },
  {
   "cell_type": "code",
   "execution_count": 0,
   "metadata": {
    "colab": {
     "autoexec": {
      "startup": false,
      "wait_interval": 0
     },
     "output_extras": [
      {}
     ]
    },
    "colab_type": "code",
    "id": "HVpKnNGTdvXK",
    "outputId": "3a839e9f-6a30-4cb5-a28e-d7c2054a8f46"
   },
   "outputs": [
    {
     "data": {
      "text/html": [
       "<div>\n",
       "<style>\n",
       "    .dataframe thead tr:only-child th {\n",
       "        text-align: right;\n",
       "    }\n",
       "\n",
       "    .dataframe thead th {\n",
       "        text-align: left;\n",
       "    }\n",
       "\n",
       "    .dataframe tbody tr th {\n",
       "        vertical-align: top;\n",
       "    }\n",
       "</style>\n",
       "<table border=\"1\" class=\"dataframe\">\n",
       "  <thead>\n",
       "    <tr style=\"text-align: right;\">\n",
       "      <th></th>\n",
       "      <th>Sample_id</th>\n",
       "      <th>Clump_Thickness</th>\n",
       "      <th>Unif_Cell_Size</th>\n",
       "      <th>Unif_Cell_Shape</th>\n",
       "      <th>Marginal_Adhesion</th>\n",
       "      <th>Single_Epithelial_Cell_Size</th>\n",
       "      <th>Bare_Nuclei</th>\n",
       "      <th>Bland_Chromatin</th>\n",
       "      <th>Normal_Nucleoli</th>\n",
       "      <th>Mitoses</th>\n",
       "      <th>Class</th>\n",
       "      <th>Bare_Nuclei_missing</th>\n",
       "    </tr>\n",
       "  </thead>\n",
       "  <tbody>\n",
       "    <tr>\n",
       "      <th>0</th>\n",
       "      <td>1000025.0</td>\n",
       "      <td>5.0</td>\n",
       "      <td>1.0</td>\n",
       "      <td>1.0</td>\n",
       "      <td>1.0</td>\n",
       "      <td>2.0</td>\n",
       "      <td>1.000000</td>\n",
       "      <td>3.0</td>\n",
       "      <td>1.0</td>\n",
       "      <td>1.0</td>\n",
       "      <td>2.0</td>\n",
       "      <td>0.0</td>\n",
       "    </tr>\n",
       "    <tr>\n",
       "      <th>1</th>\n",
       "      <td>1002945.0</td>\n",
       "      <td>5.0</td>\n",
       "      <td>4.0</td>\n",
       "      <td>4.0</td>\n",
       "      <td>5.0</td>\n",
       "      <td>7.0</td>\n",
       "      <td>10.000000</td>\n",
       "      <td>3.0</td>\n",
       "      <td>2.0</td>\n",
       "      <td>1.0</td>\n",
       "      <td>2.0</td>\n",
       "      <td>0.0</td>\n",
       "    </tr>\n",
       "    <tr>\n",
       "      <th>2</th>\n",
       "      <td>1015425.0</td>\n",
       "      <td>3.0</td>\n",
       "      <td>1.0</td>\n",
       "      <td>1.0</td>\n",
       "      <td>1.0</td>\n",
       "      <td>2.0</td>\n",
       "      <td>2.000000</td>\n",
       "      <td>3.0</td>\n",
       "      <td>1.0</td>\n",
       "      <td>1.0</td>\n",
       "      <td>2.0</td>\n",
       "      <td>0.0</td>\n",
       "    </tr>\n",
       "    <tr>\n",
       "      <th>3</th>\n",
       "      <td>1016277.0</td>\n",
       "      <td>6.0</td>\n",
       "      <td>8.0</td>\n",
       "      <td>8.0</td>\n",
       "      <td>1.0</td>\n",
       "      <td>3.0</td>\n",
       "      <td>4.000000</td>\n",
       "      <td>3.0</td>\n",
       "      <td>7.0</td>\n",
       "      <td>1.0</td>\n",
       "      <td>2.0</td>\n",
       "      <td>0.0</td>\n",
       "    </tr>\n",
       "    <tr>\n",
       "      <th>4</th>\n",
       "      <td>1017023.0</td>\n",
       "      <td>4.0</td>\n",
       "      <td>1.0</td>\n",
       "      <td>1.0</td>\n",
       "      <td>3.0</td>\n",
       "      <td>2.0</td>\n",
       "      <td>1.000000</td>\n",
       "      <td>3.0</td>\n",
       "      <td>1.0</td>\n",
       "      <td>1.0</td>\n",
       "      <td>2.0</td>\n",
       "      <td>0.0</td>\n",
       "    </tr>\n",
       "    <tr>\n",
       "      <th>5</th>\n",
       "      <td>1017122.0</td>\n",
       "      <td>8.0</td>\n",
       "      <td>10.0</td>\n",
       "      <td>10.0</td>\n",
       "      <td>8.0</td>\n",
       "      <td>7.0</td>\n",
       "      <td>10.000000</td>\n",
       "      <td>9.0</td>\n",
       "      <td>7.0</td>\n",
       "      <td>1.0</td>\n",
       "      <td>4.0</td>\n",
       "      <td>0.0</td>\n",
       "    </tr>\n",
       "    <tr>\n",
       "      <th>6</th>\n",
       "      <td>1018099.0</td>\n",
       "      <td>1.0</td>\n",
       "      <td>1.0</td>\n",
       "      <td>1.0</td>\n",
       "      <td>1.0</td>\n",
       "      <td>2.0</td>\n",
       "      <td>10.000000</td>\n",
       "      <td>3.0</td>\n",
       "      <td>1.0</td>\n",
       "      <td>1.0</td>\n",
       "      <td>2.0</td>\n",
       "      <td>0.0</td>\n",
       "    </tr>\n",
       "    <tr>\n",
       "      <th>7</th>\n",
       "      <td>1018561.0</td>\n",
       "      <td>2.0</td>\n",
       "      <td>1.0</td>\n",
       "      <td>2.0</td>\n",
       "      <td>1.0</td>\n",
       "      <td>2.0</td>\n",
       "      <td>1.000000</td>\n",
       "      <td>3.0</td>\n",
       "      <td>1.0</td>\n",
       "      <td>1.0</td>\n",
       "      <td>2.0</td>\n",
       "      <td>0.0</td>\n",
       "    </tr>\n",
       "    <tr>\n",
       "      <th>8</th>\n",
       "      <td>1033078.0</td>\n",
       "      <td>2.0</td>\n",
       "      <td>1.0</td>\n",
       "      <td>1.0</td>\n",
       "      <td>1.0</td>\n",
       "      <td>2.0</td>\n",
       "      <td>1.000000</td>\n",
       "      <td>1.0</td>\n",
       "      <td>1.0</td>\n",
       "      <td>5.0</td>\n",
       "      <td>2.0</td>\n",
       "      <td>0.0</td>\n",
       "    </tr>\n",
       "    <tr>\n",
       "      <th>9</th>\n",
       "      <td>1033078.0</td>\n",
       "      <td>4.0</td>\n",
       "      <td>2.0</td>\n",
       "      <td>1.0</td>\n",
       "      <td>1.0</td>\n",
       "      <td>2.0</td>\n",
       "      <td>1.000000</td>\n",
       "      <td>2.0</td>\n",
       "      <td>1.0</td>\n",
       "      <td>1.0</td>\n",
       "      <td>2.0</td>\n",
       "      <td>0.0</td>\n",
       "    </tr>\n",
       "    <tr>\n",
       "      <th>10</th>\n",
       "      <td>1035283.0</td>\n",
       "      <td>1.0</td>\n",
       "      <td>1.0</td>\n",
       "      <td>1.0</td>\n",
       "      <td>1.0</td>\n",
       "      <td>1.0</td>\n",
       "      <td>1.000000</td>\n",
       "      <td>3.0</td>\n",
       "      <td>1.0</td>\n",
       "      <td>1.0</td>\n",
       "      <td>2.0</td>\n",
       "      <td>0.0</td>\n",
       "    </tr>\n",
       "    <tr>\n",
       "      <th>11</th>\n",
       "      <td>1036172.0</td>\n",
       "      <td>2.0</td>\n",
       "      <td>1.0</td>\n",
       "      <td>1.0</td>\n",
       "      <td>1.0</td>\n",
       "      <td>2.0</td>\n",
       "      <td>1.000000</td>\n",
       "      <td>2.0</td>\n",
       "      <td>1.0</td>\n",
       "      <td>1.0</td>\n",
       "      <td>2.0</td>\n",
       "      <td>0.0</td>\n",
       "    </tr>\n",
       "    <tr>\n",
       "      <th>12</th>\n",
       "      <td>1041801.0</td>\n",
       "      <td>5.0</td>\n",
       "      <td>3.0</td>\n",
       "      <td>3.0</td>\n",
       "      <td>3.0</td>\n",
       "      <td>2.0</td>\n",
       "      <td>3.000000</td>\n",
       "      <td>4.0</td>\n",
       "      <td>4.0</td>\n",
       "      <td>1.0</td>\n",
       "      <td>4.0</td>\n",
       "      <td>0.0</td>\n",
       "    </tr>\n",
       "    <tr>\n",
       "      <th>13</th>\n",
       "      <td>1043999.0</td>\n",
       "      <td>1.0</td>\n",
       "      <td>1.0</td>\n",
       "      <td>1.0</td>\n",
       "      <td>1.0</td>\n",
       "      <td>2.0</td>\n",
       "      <td>3.000000</td>\n",
       "      <td>3.0</td>\n",
       "      <td>1.0</td>\n",
       "      <td>1.0</td>\n",
       "      <td>2.0</td>\n",
       "      <td>0.0</td>\n",
       "    </tr>\n",
       "    <tr>\n",
       "      <th>14</th>\n",
       "      <td>1044572.0</td>\n",
       "      <td>8.0</td>\n",
       "      <td>7.0</td>\n",
       "      <td>5.0</td>\n",
       "      <td>10.0</td>\n",
       "      <td>7.0</td>\n",
       "      <td>9.000000</td>\n",
       "      <td>5.0</td>\n",
       "      <td>5.0</td>\n",
       "      <td>4.0</td>\n",
       "      <td>4.0</td>\n",
       "      <td>0.0</td>\n",
       "    </tr>\n",
       "    <tr>\n",
       "      <th>15</th>\n",
       "      <td>1047630.0</td>\n",
       "      <td>7.0</td>\n",
       "      <td>4.0</td>\n",
       "      <td>6.0</td>\n",
       "      <td>4.0</td>\n",
       "      <td>6.0</td>\n",
       "      <td>1.000000</td>\n",
       "      <td>4.0</td>\n",
       "      <td>3.0</td>\n",
       "      <td>1.0</td>\n",
       "      <td>4.0</td>\n",
       "      <td>0.0</td>\n",
       "    </tr>\n",
       "    <tr>\n",
       "      <th>16</th>\n",
       "      <td>1048672.0</td>\n",
       "      <td>4.0</td>\n",
       "      <td>1.0</td>\n",
       "      <td>1.0</td>\n",
       "      <td>1.0</td>\n",
       "      <td>2.0</td>\n",
       "      <td>1.000000</td>\n",
       "      <td>2.0</td>\n",
       "      <td>1.0</td>\n",
       "      <td>1.0</td>\n",
       "      <td>2.0</td>\n",
       "      <td>0.0</td>\n",
       "    </tr>\n",
       "    <tr>\n",
       "      <th>17</th>\n",
       "      <td>1049815.0</td>\n",
       "      <td>4.0</td>\n",
       "      <td>1.0</td>\n",
       "      <td>1.0</td>\n",
       "      <td>1.0</td>\n",
       "      <td>2.0</td>\n",
       "      <td>1.000000</td>\n",
       "      <td>3.0</td>\n",
       "      <td>1.0</td>\n",
       "      <td>1.0</td>\n",
       "      <td>2.0</td>\n",
       "      <td>0.0</td>\n",
       "    </tr>\n",
       "    <tr>\n",
       "      <th>18</th>\n",
       "      <td>1050670.0</td>\n",
       "      <td>10.0</td>\n",
       "      <td>7.0</td>\n",
       "      <td>7.0</td>\n",
       "      <td>6.0</td>\n",
       "      <td>4.0</td>\n",
       "      <td>10.000000</td>\n",
       "      <td>4.0</td>\n",
       "      <td>1.0</td>\n",
       "      <td>2.0</td>\n",
       "      <td>4.0</td>\n",
       "      <td>0.0</td>\n",
       "    </tr>\n",
       "    <tr>\n",
       "      <th>19</th>\n",
       "      <td>1050718.0</td>\n",
       "      <td>6.0</td>\n",
       "      <td>1.0</td>\n",
       "      <td>1.0</td>\n",
       "      <td>1.0</td>\n",
       "      <td>2.0</td>\n",
       "      <td>1.000000</td>\n",
       "      <td>3.0</td>\n",
       "      <td>1.0</td>\n",
       "      <td>1.0</td>\n",
       "      <td>2.0</td>\n",
       "      <td>0.0</td>\n",
       "    </tr>\n",
       "    <tr>\n",
       "      <th>20</th>\n",
       "      <td>1054590.0</td>\n",
       "      <td>7.0</td>\n",
       "      <td>3.0</td>\n",
       "      <td>2.0</td>\n",
       "      <td>10.0</td>\n",
       "      <td>5.0</td>\n",
       "      <td>10.000000</td>\n",
       "      <td>5.0</td>\n",
       "      <td>4.0</td>\n",
       "      <td>4.0</td>\n",
       "      <td>4.0</td>\n",
       "      <td>0.0</td>\n",
       "    </tr>\n",
       "    <tr>\n",
       "      <th>21</th>\n",
       "      <td>1054593.0</td>\n",
       "      <td>10.0</td>\n",
       "      <td>5.0</td>\n",
       "      <td>5.0</td>\n",
       "      <td>3.0</td>\n",
       "      <td>6.0</td>\n",
       "      <td>7.000000</td>\n",
       "      <td>7.0</td>\n",
       "      <td>10.0</td>\n",
       "      <td>1.0</td>\n",
       "      <td>4.0</td>\n",
       "      <td>0.0</td>\n",
       "    </tr>\n",
       "    <tr>\n",
       "      <th>22</th>\n",
       "      <td>1056784.0</td>\n",
       "      <td>3.0</td>\n",
       "      <td>1.0</td>\n",
       "      <td>1.0</td>\n",
       "      <td>1.0</td>\n",
       "      <td>2.0</td>\n",
       "      <td>1.000000</td>\n",
       "      <td>2.0</td>\n",
       "      <td>1.0</td>\n",
       "      <td>1.0</td>\n",
       "      <td>2.0</td>\n",
       "      <td>0.0</td>\n",
       "    </tr>\n",
       "    <tr>\n",
       "      <th>23</th>\n",
       "      <td>1057013.0</td>\n",
       "      <td>8.0</td>\n",
       "      <td>4.0</td>\n",
       "      <td>5.0</td>\n",
       "      <td>1.0</td>\n",
       "      <td>2.0</td>\n",
       "      <td>3.544656</td>\n",
       "      <td>7.0</td>\n",
       "      <td>3.0</td>\n",
       "      <td>1.0</td>\n",
       "      <td>4.0</td>\n",
       "      <td>1.0</td>\n",
       "    </tr>\n",
       "    <tr>\n",
       "      <th>24</th>\n",
       "      <td>1059552.0</td>\n",
       "      <td>1.0</td>\n",
       "      <td>1.0</td>\n",
       "      <td>1.0</td>\n",
       "      <td>1.0</td>\n",
       "      <td>2.0</td>\n",
       "      <td>1.000000</td>\n",
       "      <td>3.0</td>\n",
       "      <td>1.0</td>\n",
       "      <td>1.0</td>\n",
       "      <td>2.0</td>\n",
       "      <td>0.0</td>\n",
       "    </tr>\n",
       "    <tr>\n",
       "      <th>25</th>\n",
       "      <td>1065726.0</td>\n",
       "      <td>5.0</td>\n",
       "      <td>2.0</td>\n",
       "      <td>3.0</td>\n",
       "      <td>4.0</td>\n",
       "      <td>2.0</td>\n",
       "      <td>7.000000</td>\n",
       "      <td>3.0</td>\n",
       "      <td>6.0</td>\n",
       "      <td>1.0</td>\n",
       "      <td>4.0</td>\n",
       "      <td>0.0</td>\n",
       "    </tr>\n",
       "    <tr>\n",
       "      <th>26</th>\n",
       "      <td>1066373.0</td>\n",
       "      <td>3.0</td>\n",
       "      <td>2.0</td>\n",
       "      <td>1.0</td>\n",
       "      <td>1.0</td>\n",
       "      <td>1.0</td>\n",
       "      <td>1.000000</td>\n",
       "      <td>2.0</td>\n",
       "      <td>1.0</td>\n",
       "      <td>1.0</td>\n",
       "      <td>2.0</td>\n",
       "      <td>0.0</td>\n",
       "    </tr>\n",
       "    <tr>\n",
       "      <th>27</th>\n",
       "      <td>1066979.0</td>\n",
       "      <td>5.0</td>\n",
       "      <td>1.0</td>\n",
       "      <td>1.0</td>\n",
       "      <td>1.0</td>\n",
       "      <td>2.0</td>\n",
       "      <td>1.000000</td>\n",
       "      <td>2.0</td>\n",
       "      <td>1.0</td>\n",
       "      <td>1.0</td>\n",
       "      <td>2.0</td>\n",
       "      <td>0.0</td>\n",
       "    </tr>\n",
       "    <tr>\n",
       "      <th>28</th>\n",
       "      <td>1067444.0</td>\n",
       "      <td>2.0</td>\n",
       "      <td>1.0</td>\n",
       "      <td>1.0</td>\n",
       "      <td>1.0</td>\n",
       "      <td>2.0</td>\n",
       "      <td>1.000000</td>\n",
       "      <td>2.0</td>\n",
       "      <td>1.0</td>\n",
       "      <td>1.0</td>\n",
       "      <td>2.0</td>\n",
       "      <td>0.0</td>\n",
       "    </tr>\n",
       "    <tr>\n",
       "      <th>29</th>\n",
       "      <td>1070935.0</td>\n",
       "      <td>1.0</td>\n",
       "      <td>1.0</td>\n",
       "      <td>3.0</td>\n",
       "      <td>1.0</td>\n",
       "      <td>2.0</td>\n",
       "      <td>1.000000</td>\n",
       "      <td>1.0</td>\n",
       "      <td>1.0</td>\n",
       "      <td>1.0</td>\n",
       "      <td>2.0</td>\n",
       "      <td>0.0</td>\n",
       "    </tr>\n",
       "  </tbody>\n",
       "</table>\n",
       "</div>"
      ],
      "text/plain": [
       "    Sample_id  Clump_Thickness  Unif_Cell_Size  Unif_Cell_Shape  \\\n",
       "0   1000025.0              5.0             1.0              1.0   \n",
       "1   1002945.0              5.0             4.0              4.0   \n",
       "2   1015425.0              3.0             1.0              1.0   \n",
       "3   1016277.0              6.0             8.0              8.0   \n",
       "4   1017023.0              4.0             1.0              1.0   \n",
       "5   1017122.0              8.0            10.0             10.0   \n",
       "6   1018099.0              1.0             1.0              1.0   \n",
       "7   1018561.0              2.0             1.0              2.0   \n",
       "8   1033078.0              2.0             1.0              1.0   \n",
       "9   1033078.0              4.0             2.0              1.0   \n",
       "10  1035283.0              1.0             1.0              1.0   \n",
       "11  1036172.0              2.0             1.0              1.0   \n",
       "12  1041801.0              5.0             3.0              3.0   \n",
       "13  1043999.0              1.0             1.0              1.0   \n",
       "14  1044572.0              8.0             7.0              5.0   \n",
       "15  1047630.0              7.0             4.0              6.0   \n",
       "16  1048672.0              4.0             1.0              1.0   \n",
       "17  1049815.0              4.0             1.0              1.0   \n",
       "18  1050670.0             10.0             7.0              7.0   \n",
       "19  1050718.0              6.0             1.0              1.0   \n",
       "20  1054590.0              7.0             3.0              2.0   \n",
       "21  1054593.0             10.0             5.0              5.0   \n",
       "22  1056784.0              3.0             1.0              1.0   \n",
       "23  1057013.0              8.0             4.0              5.0   \n",
       "24  1059552.0              1.0             1.0              1.0   \n",
       "25  1065726.0              5.0             2.0              3.0   \n",
       "26  1066373.0              3.0             2.0              1.0   \n",
       "27  1066979.0              5.0             1.0              1.0   \n",
       "28  1067444.0              2.0             1.0              1.0   \n",
       "29  1070935.0              1.0             1.0              3.0   \n",
       "\n",
       "    Marginal_Adhesion  Single_Epithelial_Cell_Size  Bare_Nuclei  \\\n",
       "0                 1.0                          2.0     1.000000   \n",
       "1                 5.0                          7.0    10.000000   \n",
       "2                 1.0                          2.0     2.000000   \n",
       "3                 1.0                          3.0     4.000000   \n",
       "4                 3.0                          2.0     1.000000   \n",
       "5                 8.0                          7.0    10.000000   \n",
       "6                 1.0                          2.0    10.000000   \n",
       "7                 1.0                          2.0     1.000000   \n",
       "8                 1.0                          2.0     1.000000   \n",
       "9                 1.0                          2.0     1.000000   \n",
       "10                1.0                          1.0     1.000000   \n",
       "11                1.0                          2.0     1.000000   \n",
       "12                3.0                          2.0     3.000000   \n",
       "13                1.0                          2.0     3.000000   \n",
       "14               10.0                          7.0     9.000000   \n",
       "15                4.0                          6.0     1.000000   \n",
       "16                1.0                          2.0     1.000000   \n",
       "17                1.0                          2.0     1.000000   \n",
       "18                6.0                          4.0    10.000000   \n",
       "19                1.0                          2.0     1.000000   \n",
       "20               10.0                          5.0    10.000000   \n",
       "21                3.0                          6.0     7.000000   \n",
       "22                1.0                          2.0     1.000000   \n",
       "23                1.0                          2.0     3.544656   \n",
       "24                1.0                          2.0     1.000000   \n",
       "25                4.0                          2.0     7.000000   \n",
       "26                1.0                          1.0     1.000000   \n",
       "27                1.0                          2.0     1.000000   \n",
       "28                1.0                          2.0     1.000000   \n",
       "29                1.0                          2.0     1.000000   \n",
       "\n",
       "    Bland_Chromatin  Normal_Nucleoli  Mitoses  Class  Bare_Nuclei_missing  \n",
       "0               3.0              1.0      1.0    2.0                  0.0  \n",
       "1               3.0              2.0      1.0    2.0                  0.0  \n",
       "2               3.0              1.0      1.0    2.0                  0.0  \n",
       "3               3.0              7.0      1.0    2.0                  0.0  \n",
       "4               3.0              1.0      1.0    2.0                  0.0  \n",
       "5               9.0              7.0      1.0    4.0                  0.0  \n",
       "6               3.0              1.0      1.0    2.0                  0.0  \n",
       "7               3.0              1.0      1.0    2.0                  0.0  \n",
       "8               1.0              1.0      5.0    2.0                  0.0  \n",
       "9               2.0              1.0      1.0    2.0                  0.0  \n",
       "10              3.0              1.0      1.0    2.0                  0.0  \n",
       "11              2.0              1.0      1.0    2.0                  0.0  \n",
       "12              4.0              4.0      1.0    4.0                  0.0  \n",
       "13              3.0              1.0      1.0    2.0                  0.0  \n",
       "14              5.0              5.0      4.0    4.0                  0.0  \n",
       "15              4.0              3.0      1.0    4.0                  0.0  \n",
       "16              2.0              1.0      1.0    2.0                  0.0  \n",
       "17              3.0              1.0      1.0    2.0                  0.0  \n",
       "18              4.0              1.0      2.0    4.0                  0.0  \n",
       "19              3.0              1.0      1.0    2.0                  0.0  \n",
       "20              5.0              4.0      4.0    4.0                  0.0  \n",
       "21              7.0             10.0      1.0    4.0                  0.0  \n",
       "22              2.0              1.0      1.0    2.0                  0.0  \n",
       "23              7.0              3.0      1.0    4.0                  1.0  \n",
       "24              3.0              1.0      1.0    2.0                  0.0  \n",
       "25              3.0              6.0      1.0    4.0                  0.0  \n",
       "26              2.0              1.0      1.0    2.0                  0.0  \n",
       "27              2.0              1.0      1.0    2.0                  0.0  \n",
       "28              2.0              1.0      1.0    2.0                  0.0  \n",
       "29              1.0              1.0      1.0    2.0                  0.0  "
      ]
     },
     "execution_count": 25,
     "metadata": {
      "tags": []
     },
     "output_type": "execute_result"
    }
   ],
   "source": [
    "data.head(30)"
   ]
  },
  {
   "cell_type": "code",
   "execution_count": 0,
   "metadata": {
    "colab": {
     "autoexec": {
      "startup": false,
      "wait_interval": 0
     }
    },
    "colab_type": "code",
    "id": "XvAW6IY6dvXT"
   },
   "outputs": [],
   "source": [
    "y = data['Class']"
   ]
  },
  {
   "cell_type": "code",
   "execution_count": 0,
   "metadata": {
    "colab": {
     "autoexec": {
      "startup": false,
      "wait_interval": 0
     }
    },
    "colab_type": "code",
    "id": "exI0xjFwdvXV"
   },
   "outputs": [],
   "source": [
    "y2 = y[y == 2]\n",
    "y4 = y[y == 4]"
   ]
  },
  {
   "cell_type": "code",
   "execution_count": 0,
   "metadata": {
    "colab": {
     "autoexec": {
      "startup": false,
      "wait_interval": 0
     },
     "output_extras": [
      {}
     ]
    },
    "colab_type": "code",
    "id": "XQKV72OudvXY",
    "outputId": "9c86660a-9926-4c32-d5be-85568ad3868d"
   },
   "outputs": [
    {
     "name": "stdout",
     "output_type": "stream",
     "text": [
      "458\n",
      "241\n"
     ]
    }
   ],
   "source": [
    "print len(y2)\n",
    "print len(y4) # Checking for whether the data is imbalanced "
   ]
  },
  {
   "cell_type": "code",
   "execution_count": 0,
   "metadata": {
    "colab": {
     "autoexec": {
      "startup": false,
      "wait_interval": 0
     }
    },
    "colab_type": "code",
    "id": "9DuSff00dvXm"
   },
   "outputs": [],
   "source": [
    "X = data[['Clump_Thickness', 'Unif_Cell_Size', 'Unif_Cell_Shape', 'Marginal_Adhesion', 'Single_Epithelial_Cell_Size', 'Bare_Nuclei', 'Bland_Chromatin', 'Normal_Nucleoli', 'Mitoses', 'Bare_Nuclei_missing']]"
   ]
  },
  {
   "cell_type": "code",
   "execution_count": 0,
   "metadata": {
    "colab": {
     "autoexec": {
      "startup": false,
      "wait_interval": 0
     }
    },
    "colab_type": "code",
    "id": "MgCgwTsgdvXr"
   },
   "outputs": [],
   "source": [
    "X_train, X_test, y_train, y_test = train_test_split(X, y, test_size=0.20, random_state=42)"
   ]
  },
  {
   "cell_type": "code",
   "execution_count": 0,
   "metadata": {
    "colab": {
     "autoexec": {
      "startup": false,
      "wait_interval": 0
     }
    },
    "colab_type": "code",
    "id": "6xzQJwiddvXu"
   },
   "outputs": [],
   "source": [
    "clf = RandomForestClassifier(max_depth=2, random_state=0, n_jobs=-1)"
   ]
  },
  {
   "cell_type": "code",
   "execution_count": 0,
   "metadata": {
    "colab": {
     "autoexec": {
      "startup": false,
      "wait_interval": 0
     },
     "output_extras": [
      {}
     ]
    },
    "colab_type": "code",
    "id": "5Q9IhhG9dvXx",
    "outputId": "9160be27-122f-4cd0-ffa1-4c1b7e784d1d"
   },
   "outputs": [
    {
     "data": {
      "text/plain": [
       "RandomForestClassifier(bootstrap=True, class_weight=None, criterion='gini',\n",
       "            max_depth=2, max_features='auto', max_leaf_nodes=None,\n",
       "            min_impurity_split=1e-07, min_samples_leaf=1,\n",
       "            min_samples_split=2, min_weight_fraction_leaf=0.0,\n",
       "            n_estimators=10, n_jobs=-1, oob_score=False, random_state=0,\n",
       "            verbose=0, warm_start=False)"
      ]
     },
     "execution_count": 32,
     "metadata": {
      "tags": []
     },
     "output_type": "execute_result"
    }
   ],
   "source": [
    "clf.fit(X_train, y_train)"
   ]
  },
  {
   "cell_type": "code",
   "execution_count": 0,
   "metadata": {
    "colab": {
     "autoexec": {
      "startup": false,
      "wait_interval": 0
     },
     "output_extras": [
      {}
     ]
    },
    "colab_type": "code",
    "id": "IYK2OlWadvX9",
    "outputId": "56e35c35-22bc-4015-bdc2-110998d379e2"
   },
   "outputs": [
    {
     "data": {
      "text/plain": [
       "array([ 0.05057693,  0.27588509,  0.18586979,  0.00198292,  0.16913916,\n",
       "        0.01374256,  0.2122989 ,  0.08710919,  0.        ,  0.00339545])"
      ]
     },
     "execution_count": 33,
     "metadata": {
      "tags": []
     },
     "output_type": "execute_result"
    }
   ],
   "source": [
    "clf.feature_importances_"
   ]
  },
  {
   "cell_type": "code",
   "execution_count": 0,
   "metadata": {
    "colab": {
     "autoexec": {
      "startup": false,
      "wait_interval": 0
     },
     "output_extras": [
      {}
     ]
    },
    "colab_type": "code",
    "id": "aCgWKJxldvYB",
    "outputId": "6cdbe8f4-a0d0-4aee-da6f-81017a5cb1f1"
   },
   "outputs": [
    {
     "data": {
      "text/plain": [
       "array([ 2.,  2.,  2.,  4.,  2.,  2.,  2.,  4.,  4.,  2.,  2.,  4.,  2.,\n",
       "        2.,  2.,  4.,  2.,  4.,  4.,  4.,  4.,  2.,  4.,  2.,  4.,  2.,\n",
       "        2.,  4.,  2.,  4.,  2.,  2.,  2.,  4.,  2.,  2.,  2.,  4.,  2.,\n",
       "        4.,  2.,  2.,  4.,  2.,  2.,  2.,  2.,  4.,  2.,  4.,  2.,  2.,\n",
       "        4.,  2.,  4.,  2.,  2.,  4.,  2.,  2.,  2.,  2.,  4.,  2.,  2.,\n",
       "        2.,  4.,  4.,  2.,  2.,  4.,  2.,  4.,  2.,  2.,  2.,  2.,  4.,\n",
       "        2.,  2.,  2.,  2.,  2.,  2.,  2.,  4.,  4.,  2.,  2.,  2.,  2.,\n",
       "        2.,  4.,  2.,  2.,  4.,  2.,  2.,  2.,  2.,  2.,  2.,  2.,  4.,\n",
       "        4.,  2.,  4.,  2.,  2.,  4.,  4.,  2.,  2.,  2.,  2.,  4.,  2.,\n",
       "        2.,  2.,  2.,  2.,  4.,  2.,  2.,  4.,  4.,  2.,  2.,  4.,  4.,\n",
       "        2.,  2.,  4.,  2.,  4.,  2.,  4.,  2.,  2.,  2.])"
      ]
     },
     "execution_count": 34,
     "metadata": {
      "tags": []
     },
     "output_type": "execute_result"
    }
   ],
   "source": [
    "clf.predict(X_test)"
   ]
  },
  {
   "cell_type": "code",
   "execution_count": 0,
   "metadata": {
    "colab": {
     "autoexec": {
      "startup": false,
      "wait_interval": 0
     },
     "output_extras": [
      {}
     ]
    },
    "colab_type": "code",
    "id": "4q355R6qdvYO",
    "outputId": "8168bf1d-d45c-4533-873f-a31e924c7919"
   },
   "outputs": [
    {
     "data": {
      "text/plain": [
       "0.9642857142857143"
      ]
     },
     "execution_count": 35,
     "metadata": {
      "tags": []
     },
     "output_type": "execute_result"
    }
   ],
   "source": [
    "clf.score(X_test, y_test)"
   ]
  },
  {
   "cell_type": "code",
   "execution_count": 0,
   "metadata": {
    "colab": {
     "autoexec": {
      "startup": false,
      "wait_interval": 0
     },
     "output_extras": [
      {}
     ]
    },
    "colab_type": "code",
    "id": "bDAsXnqodvYU",
    "outputId": "8f980739-dc48-4b21-a595-e69bd991f489"
   },
   "outputs": [
    {
     "data": {
      "text/plain": [
       "0.96958855098389984"
      ]
     },
     "execution_count": 36,
     "metadata": {
      "tags": []
     },
     "output_type": "execute_result"
    }
   ],
   "source": [
    "clf.score(X_train, y_train)"
   ]
  },
  {
   "cell_type": "markdown",
   "metadata": {
    "colab_type": "text",
    "id": "mzlpz3BqdvYX"
   },
   "source": [
    "The above 2 lines show the RandomForest Classifier model score (accuracy) on test and train models. The accuracy is 97 % on the training set, and 96.4 % on the test set. These values being close to each other shows that the model does not have high variance, and generalizing the model to the data accurately. "
   ]
  },
  {
   "cell_type": "code",
   "execution_count": 0,
   "metadata": {
    "colab": {
     "autoexec": {
      "startup": false,
      "wait_interval": 0
     }
    },
    "colab_type": "code",
    "id": "ItGpIJBQdvYc"
   },
   "outputs": [],
   "source": [
    "y_predict = clf.predict(X_test)"
   ]
  },
  {
   "cell_type": "code",
   "execution_count": 0,
   "metadata": {
    "colab": {
     "autoexec": {
      "startup": false,
      "wait_interval": 0
     },
     "output_extras": [
      {}
     ]
    },
    "colab_type": "code",
    "id": "bB3OoeYydvYf",
    "outputId": "d8cc3610-04a5-44f1-9509-47ee037ad497"
   },
   "outputs": [
    {
     "data": {
      "text/plain": [
       "array([[92,  3],\n",
       "       [ 2, 43]])"
      ]
     },
     "execution_count": 39,
     "metadata": {
      "tags": []
     },
     "output_type": "execute_result"
    }
   ],
   "source": [
    "confusion_matrix(y_test, y_predict)"
   ]
  },
  {
   "cell_type": "code",
   "execution_count": 0,
   "metadata": {
    "colab": {
     "autoexec": {
      "startup": false,
      "wait_interval": 0
     }
    },
    "colab_type": "code",
    "id": "Nkq-dtVTdvYi"
   },
   "outputs": [],
   "source": [
    "def plot_confusion_matrix(cm, classes,\n",
    "                          normalize=False,\n",
    "                          title='Confusion matrix',\n",
    "                          cmap=plt.cm.Blues):\n",
    "    \"\"\"\n",
    "    This function prints and plots the confusion matrix.\n",
    "    Normalization can be applied by setting `normalize=True`.\n",
    "    \"\"\"\n",
    "    if normalize:\n",
    "        cm = cm.astype('float') / cm.sum(axis=1)[:, np.newaxis]\n",
    "        print(\"Normalized confusion matrix\")\n",
    "    else:\n",
    "        print('Confusion matrix, without normalization')\n",
    "\n",
    "    print(cm)\n",
    "\n",
    "    plt.imshow(cm, interpolation='nearest', cmap=cmap)\n",
    "    plt.title(title)\n",
    "    plt.colorbar()\n",
    "    tick_marks = np.arange(len(classes))\n",
    "    plt.xticks(tick_marks, classes, rotation=45)\n",
    "    plt.yticks(tick_marks, classes)\n",
    "\n",
    "    fmt = '.2f' if normalize else 'd'\n",
    "    thresh = cm.max() / 2.\n",
    "    for i, j in itertools.product(range(cm.shape[0]), range(cm.shape[1])):\n",
    "        plt.text(j, i, format(cm[i, j], fmt),\n",
    "                 horizontalalignment=\"center\",\n",
    "                 color=\"white\" if cm[i, j] > thresh else \"black\")\n",
    "\n",
    "    plt.tight_layout()\n",
    "    plt.ylabel('True label')\n",
    "    plt.xlabel('Predicted label')"
   ]
  },
  {
   "cell_type": "code",
   "execution_count": 0,
   "metadata": {
    "colab": {
     "autoexec": {
      "startup": false,
      "wait_interval": 0
     },
     "output_extras": [
      {}
     ]
    },
    "colab_type": "code",
    "id": "a_sy2AUodvYq",
    "outputId": "8cf82f48-5b8f-487f-94ba-7728c587f4b2"
   },
   "outputs": [
    {
     "data": {
      "text/plain": [
       "[2.0, 4.0]"
      ]
     },
     "execution_count": 41,
     "metadata": {
      "tags": []
     },
     "output_type": "execute_result"
    }
   ],
   "source": [
    "classes=[2.0, 4.0]\n",
    "classes"
   ]
  },
  {
   "cell_type": "code",
   "execution_count": 0,
   "metadata": {
    "colab": {
     "autoexec": {
      "startup": false,
      "wait_interval": 0
     },
     "output_extras": [
      {},
      {}
     ]
    },
    "colab_type": "code",
    "id": "wReRj3rndvYu",
    "outputId": "9f64ad70-7d7c-424c-a588-ee5bfc9c7aa5"
   },
   "outputs": [
    {
     "name": "stdout",
     "output_type": "stream",
     "text": [
      "Normalized confusion matrix\n",
      "[[ 0.96842105  0.03157895]\n",
      " [ 0.04444444  0.95555556]]\n"
     ]
    },
    {
     "data": {
      "image/png": "[encoded data removed]",
      "text/plain": [
       "<matplotlib.figure.Figure at 0x7f44d1e96e90>"
      ]
     },
     "metadata": {
      "tags": []
     },
     "output_type": "display_data"
    }
   ],
   "source": [
    "plt.figure()\n",
    "import itertools\n",
    "plot_confusion_matrix(confusion_matrix(y_test, y_predict), classes=classes, normalize=True,\n",
    "                      title='Normalized confusion matrix')\n",
    "\n",
    "plt.show()"
   ]
  },
  {
   "cell_type": "markdown",
   "metadata": {
    "colab_type": "text",
    "id": "iJtWfnd_dvYy"
   },
   "source": [
    "Here is the confusion matrix obtained from RandomForest Classifier. I will check GradientBoostingClassifier as well to see if I can obtain a better result."
   ]
  },
  {
   "cell_type": "code",
   "execution_count": 0,
   "metadata": {
    "colab": {
     "autoexec": {
      "startup": false,
      "wait_interval": 0
     }
    },
    "colab_type": "code",
    "id": "E_mY8sw4dvYy"
   },
   "outputs": [],
   "source": [
    "from sklearn.metrics import roc_curve, auc"
   ]
  },
  {
   "cell_type": "code",
   "execution_count": 0,
   "metadata": {
    "colab": {
     "autoexec": {
      "startup": false,
      "wait_interval": 0
     },
     "output_extras": [
      {}
     ]
    },
    "colab_type": "code",
    "collapsed": true,
    "id": "c83I7ywfdvY0",
    "outputId": "1b037a1b-3bae-48c3-b358-4ca22b9e090a"
   },
   "outputs": [
    {
     "ename": "TypeError",
     "evalue": "'tuple' object is not callable",
     "output_type": "error",
     "traceback": [
      "\u001b[0;31m---------------------------------------------------------------------------\u001b[0m",
      "\u001b[0;31mTypeError\u001b[0m                                 Traceback (most recent call last)",
      "\u001b[0;32m<ipython-input-58-7b9cb49c8984>\u001b[0m in \u001b[0;36m<module>\u001b[0;34m()\u001b[0m\n\u001b[1;32m      3\u001b[0m \u001b[0;34m\u001b[0m\u001b[0m\n\u001b[1;32m      4\u001b[0m \u001b[0;31m# get roc/auc info\u001b[0m\u001b[0;34m\u001b[0m\u001b[0;34m\u001b[0m\u001b[0m\n\u001b[0;32m----> 5\u001b[0;31m \u001b[0my_score\u001b[0m \u001b[0;34m=\u001b[0m \u001b[0mclf\u001b[0m\u001b[0;34m.\u001b[0m\u001b[0mestimator_params\u001b[0m\u001b[0;34m(\u001b[0m\u001b[0mX_test\u001b[0m\u001b[0;34m)\u001b[0m\u001b[0;34m\u001b[0m\u001b[0m\n\u001b[0m\u001b[1;32m      6\u001b[0m \u001b[0mfpr\u001b[0m \u001b[0;34m=\u001b[0m \u001b[0mdict\u001b[0m\u001b[0;34m(\u001b[0m\u001b[0;34m)\u001b[0m\u001b[0;34m\u001b[0m\u001b[0m\n\u001b[1;32m      7\u001b[0m \u001b[0mtpr\u001b[0m \u001b[0;34m=\u001b[0m \u001b[0mdict\u001b[0m\u001b[0;34m(\u001b[0m\u001b[0;34m)\u001b[0m\u001b[0;34m\u001b[0m\u001b[0m\n",
      "\u001b[0;31mTypeError\u001b[0m: 'tuple' object is not callable"
     ]
    }
   ],
   "source": [
    "# overall accuracy\n",
    "acc = clf.score(X_test,y_test)\n",
    "\n",
    "# get roc/auc info\n",
    "y_score = clf.estimator_params(X_test)\n",
    "fpr = dict()\n",
    "tpr = dict()\n",
    "fpr, tpr, _ = roc_curve(y_test, y_score)\n",
    "\n",
    "roc_auc = dict()\n",
    "roc_auc = auc(fpr, tpr)\n",
    "\n",
    "# make the plot\n",
    "plt.figure(figsize=(10,10))\n",
    "plt.plot([0, 1], [0, 1], 'k--')\n",
    "plt.xlim([-0.05, 1.0])\n",
    "plt.ylim([0.0, 1.05])\n",
    "plt.xlabel('False Positive Rate')\n",
    "plt.ylabel('True Positive Rate')\n",
    "plt.grid(True)\n",
    "plt.plot(fpr, tpr, label='AUC = {0}'.format(roc_auc))        \n",
    "plt.legend(loc=\"lower right\", shadow=True, fancybox =True) "
   ]
  },
  {
   "cell_type": "code",
   "execution_count": 0,
   "metadata": {
    "colab": {
     "autoexec": {
      "startup": false,
      "wait_interval": 0
     },
     "output_extras": [
      {}
     ]
    },
    "colab_type": "code",
    "collapsed": true,
    "id": "L-Lfs8F4dvY3",
    "outputId": "aa12d664-dada-4693-cda6-3cd9a41326a6"
   },
   "outputs": [
    {
     "ename": "ValueError",
     "evalue": "Data is not binary and pos_label is not specified",
     "output_type": "error",
     "traceback": [
      "\u001b[0;31m---------------------------------------------------------------------------\u001b[0m",
      "\u001b[0;31mValueError\u001b[0m                                Traceback (most recent call last)",
      "\u001b[0;32m<ipython-input-44-132ab9b5a227>\u001b[0m in \u001b[0;36m<module>\u001b[0;34m()\u001b[0m\n\u001b[0;32m----> 1\u001b[0;31m \u001b[0mfpr_rf\u001b[0m\u001b[0;34m,\u001b[0m \u001b[0mtpr_rf\u001b[0m\u001b[0;34m,\u001b[0m \u001b[0m_\u001b[0m \u001b[0;34m=\u001b[0m \u001b[0mroc_curve\u001b[0m\u001b[0;34m(\u001b[0m\u001b[0my_test\u001b[0m\u001b[0;34m,\u001b[0m \u001b[0my_predict\u001b[0m\u001b[0;34m)\u001b[0m\u001b[0;34m\u001b[0m\u001b[0m\n\u001b[0m",
      "\u001b[0;32m/home/selintosun/anaconda2/lib/python2.7/site-packages/sklearn/metrics/ranking.pyc\u001b[0m in \u001b[0;36mroc_curve\u001b[0;34m(y_true, y_score, pos_label, sample_weight, drop_intermediate)\u001b[0m\n\u001b[1;32m    503\u001b[0m     \"\"\"\n\u001b[1;32m    504\u001b[0m     fps, tps, thresholds = _binary_clf_curve(\n\u001b[0;32m--> 505\u001b[0;31m         y_true, y_score, pos_label=pos_label, sample_weight=sample_weight)\n\u001b[0m\u001b[1;32m    506\u001b[0m \u001b[0;34m\u001b[0m\u001b[0m\n\u001b[1;32m    507\u001b[0m     \u001b[0;31m# Attempt to drop thresholds corresponding to points in between and\u001b[0m\u001b[0;34m\u001b[0m\u001b[0;34m\u001b[0m\u001b[0m\n",
      "\u001b[0;32m/home/selintosun/anaconda2/lib/python2.7/site-packages/sklearn/metrics/ranking.pyc\u001b[0m in \u001b[0;36m_binary_clf_curve\u001b[0;34m(y_true, y_score, pos_label, sample_weight)\u001b[0m\n\u001b[1;32m    312\u001b[0m              \u001b[0marray_equal\u001b[0m\u001b[0;34m(\u001b[0m\u001b[0mclasses\u001b[0m\u001b[0;34m,\u001b[0m \u001b[0;34m[\u001b[0m\u001b[0;34m-\u001b[0m\u001b[0;36m1\u001b[0m\u001b[0;34m]\u001b[0m\u001b[0;34m)\u001b[0m \u001b[0;32mor\u001b[0m\u001b[0;34m\u001b[0m\u001b[0m\n\u001b[1;32m    313\u001b[0m              array_equal(classes, [1]))):\n\u001b[0;32m--> 314\u001b[0;31m         \u001b[0;32mraise\u001b[0m \u001b[0mValueError\u001b[0m\u001b[0;34m(\u001b[0m\u001b[0;34m\"Data is not binary and pos_label is not specified\"\u001b[0m\u001b[0;34m)\u001b[0m\u001b[0;34m\u001b[0m\u001b[0m\n\u001b[0m\u001b[1;32m    315\u001b[0m     \u001b[0;32melif\u001b[0m \u001b[0mpos_label\u001b[0m \u001b[0;32mis\u001b[0m \u001b[0mNone\u001b[0m\u001b[0;34m:\u001b[0m\u001b[0;34m\u001b[0m\u001b[0m\n\u001b[1;32m    316\u001b[0m         \u001b[0mpos_label\u001b[0m \u001b[0;34m=\u001b[0m \u001b[0;36m1.\u001b[0m\u001b[0;34m\u001b[0m\u001b[0m\n",
      "\u001b[0;31mValueError\u001b[0m: Data is not binary and pos_label is not specified"
     ]
    }
   ],
   "source": [
    "fpr_rf, tpr_rf, _ = roc_curve(y_test, y_predict)"
   ]
  },
  {
   "cell_type": "markdown",
   "metadata": {
    "colab_type": "text",
    "id": "FToLXOp3dvY6"
   },
   "source": [
    "#### GradientBoostingClassifier Section"
   ]
  },
  {
   "cell_type": "code",
   "execution_count": 0,
   "metadata": {
    "colab": {
     "autoexec": {
      "startup": false,
      "wait_interval": 0
     }
    },
    "colab_type": "code",
    "id": "ofzgjuXrdvY7"
   },
   "outputs": [],
   "source": [
    "clf_GB = GradientBoostingClassifier(random_state=0)"
   ]
  },
  {
   "cell_type": "code",
   "execution_count": 0,
   "metadata": {
    "colab": {
     "autoexec": {
      "startup": false,
      "wait_interval": 0
     },
     "output_extras": [
      {}
     ]
    },
    "colab_type": "code",
    "id": "3acHWUu0dvY-",
    "outputId": "b5c5c298-e9fa-4e02-c97f-ce79a6a767a6"
   },
   "outputs": [
    {
     "data": {
      "text/plain": [
       "GradientBoostingClassifier(criterion='friedman_mse', init=None,\n",
       "              learning_rate=0.1, loss='deviance', max_depth=3,\n",
       "              max_features=None, max_leaf_nodes=None,\n",
       "              min_impurity_split=1e-07, min_samples_leaf=1,\n",
       "              min_samples_split=2, min_weight_fraction_leaf=0.0,\n",
       "              n_estimators=100, presort='auto', random_state=0,\n",
       "              subsample=1.0, verbose=0, warm_start=False)"
      ]
     },
     "execution_count": 46,
     "metadata": {
      "tags": []
     },
     "output_type": "execute_result"
    }
   ],
   "source": [
    "clf_GB.fit(X_train, y_train)"
   ]
  },
  {
   "cell_type": "code",
   "execution_count": 0,
   "metadata": {
    "colab": {
     "autoexec": {
      "startup": false,
      "wait_interval": 0
     },
     "output_extras": [
      {}
     ]
    },
    "colab_type": "code",
    "id": "dUKZJ-YsdvZn",
    "outputId": "c98ef89e-91af-405f-87d4-6528da3bd326"
   },
   "outputs": [
    {
     "data": {
      "text/plain": [
       "array([ 0.1079837 ,  0.17069145,  0.14823318,  0.0925412 ,  0.05998366,\n",
       "        0.16649211,  0.09874849,  0.1243893 ,  0.0142271 ,  0.01670981])"
      ]
     },
     "execution_count": 47,
     "metadata": {
      "tags": []
     },
     "output_type": "execute_result"
    }
   ],
   "source": [
    "clf_GB.feature_importances_"
   ]
  },
  {
   "cell_type": "code",
   "execution_count": 0,
   "metadata": {
    "colab": {
     "autoexec": {
      "startup": false,
      "wait_interval": 0
     }
    },
    "colab_type": "code",
    "collapsed": true,
    "id": "mMOoesNMdvZy"
   },
   "outputs": [],
   "source": [
    "y_GB_pred = clf_GB.predict(X_test)"
   ]
  },
  {
   "cell_type": "code",
   "execution_count": 0,
   "metadata": {
    "colab": {
     "autoexec": {
      "startup": false,
      "wait_interval": 0
     },
     "output_extras": [
      {}
     ]
    },
    "colab_type": "code",
    "id": "mj_5gJ9HdvZ-",
    "outputId": "8e8d5b1f-263e-4f7a-c9bd-fc61bfeb6a91"
   },
   "outputs": [
    {
     "data": {
      "text/plain": [
       "0.94999999999999996"
      ]
     },
     "execution_count": 49,
     "metadata": {
      "tags": []
     },
     "output_type": "execute_result"
    }
   ],
   "source": [
    "clf_GB.score(X_test, y_test)"
   ]
  },
  {
   "cell_type": "code",
   "execution_count": 0,
   "metadata": {
    "colab": {
     "autoexec": {
      "startup": false,
      "wait_interval": 0
     },
     "output_extras": [
      {}
     ]
    },
    "colab_type": "code",
    "id": "q9UUhLV8dvas",
    "outputId": "5f8bc0b7-26a1-43fb-b3b4-12c5b2f037d9"
   },
   "outputs": [
    {
     "data": {
      "text/plain": [
       "1.0"
      ]
     },
     "execution_count": 50,
     "metadata": {
      "tags": []
     },
     "output_type": "execute_result"
    }
   ],
   "source": [
    "clf_GB.score(X_train, y_train)"
   ]
  },
  {
   "cell_type": "markdown",
   "metadata": {
    "colab_type": "text",
    "id": "xlVorMFDdvaw"
   },
   "source": [
    "Training score is 1 while the test score is 0.95. This difference may indicate some overfitting compared to RandomForest. "
   ]
  },
  {
   "cell_type": "code",
   "execution_count": 0,
   "metadata": {
    "colab": {
     "autoexec": {
      "startup": false,
      "wait_interval": 0
     },
     "output_extras": [
      {}
     ]
    },
    "colab_type": "code",
    "id": "lkjn_Lqudvax",
    "outputId": "62b98dfc-b2ff-4f30-ff1d-48e201b62333"
   },
   "outputs": [
    {
     "data": {
      "text/plain": [
       "array([[92,  3],\n",
       "       [ 4, 41]])"
      ]
     },
     "execution_count": 51,
     "metadata": {
      "tags": []
     },
     "output_type": "execute_result"
    }
   ],
   "source": [
    "confusion_matrix(y_test, y_GB_pred)"
   ]
  },
  {
   "cell_type": "code",
   "execution_count": 0,
   "metadata": {
    "colab": {
     "autoexec": {
      "startup": false,
      "wait_interval": 0
     },
     "output_extras": [
      {},
      {}
     ]
    },
    "colab_type": "code",
    "id": "zz2sgVkCdva1",
    "outputId": "4abd83ab-1615-4301-fd6b-309837a7f3f0"
   },
   "outputs": [
    {
     "name": "stdout",
     "output_type": "stream",
     "text": [
      "Normalized confusion matrix\n",
      "[[ 0.96842105  0.03157895]\n",
      " [ 0.08888889  0.91111111]]\n"
     ]
    },
    {
     "data": {
      "image/png": "[encoded data removed]",
      "text/plain": [
       "<matplotlib.figure.Figure at 0x7f44d3950590>"
      ]
     },
     "metadata": {
      "tags": []
     },
     "output_type": "display_data"
    }
   ],
   "source": [
    "plt.figure()\n",
    "import itertools\n",
    "plot_confusion_matrix(confusion_matrix(y_test, y_GB_pred), classes=classes, normalize=True,\n",
    "                      title='Normalized confusion matrix')\n",
    "\n",
    "plt.show()"
   ]
  },
  {
   "cell_type": "code",
   "execution_count": 0,
   "metadata": {
    "colab": {
     "autoexec": {
      "startup": false,
      "wait_interval": 0
     }
    },
    "colab_type": "code",
    "collapsed": true,
    "id": "mEkfmVl0dva5"
   },
   "outputs": [],
   "source": [
    "importances = clf_GB.feature_importances_"
   ]
  },
  {
   "cell_type": "code",
   "execution_count": 0,
   "metadata": {
    "colab": {
     "autoexec": {
      "startup": false,
      "wait_interval": 0
     },
     "output_extras": [
      {}
     ]
    },
    "colab_type": "code",
    "id": "64p5y80_dvbH",
    "outputId": "d27373c8-179b-4a70-fd56-2c17ee398d1f"
   },
   "outputs": [
    {
     "data": {
      "image/png": "[encoded data removed]",
      "text/plain": [
       "<matplotlib.figure.Figure at 0x7f44cbfc7910>"
      ]
     },
     "metadata": {
      "tags": []
     },
     "output_type": "display_data"
    }
   ],
   "source": [
    "indices = np.argsort(importances)[::-1]\n",
    "\n",
    "plt.figure(figsize=(28,8))\n",
    "plt.title(\"Feature importances\", fontsize=20)\n",
    "plt.bar(range(X.shape[1])[:10], importances[indices][:10],\n",
    "       color=\"r\", align=\"center\")\n",
    "plt.xticks(range(X.shape[1])[:10], X.columns[indices][:10],rotation='vertical', fontsize=20)\n",
    "plt.yticks(fontsize=20)\n",
    "plt.xlim([-1, 10])\n",
    "plt.show();"
   ]
  },
  {
   "cell_type": "markdown",
   "metadata": {
    "colab_type": "text",
    "id": "r5tNSrNQdvbL"
   },
   "source": [
    "#### Let's compare the confusion matrix from RandomForest and GradientBoosting: \n",
    "\n",
    "* TN_RF = 0.97, \n",
    "* TP_RF = 0.96, \n",
    "* FN_RF = 0.04, and \n",
    "* FP_RF = 0.03 while assuming 2 is negative, and 4 is postive. (2:benign, 4: malignant): This means when we detect 4 we detect Cancer. \n",
    "\n",
    "* TN_GB = 0.97\n",
    "* TP_GB = 0.91\n",
    "* FN_GB = 0.09\n",
    "* FP_GB = 0.03 \n",
    "\n",
    "Here RF shows higher precition and more importantly it is perfoming better with detecting the FN's (when there is cancer eventhough test comes negative). Since it is important to catch the real cancer possibility, then treating the non-cancer having patients (FP) - the difference is one can continue living, while the cost on the other side is having weak and cancer treatment side effects... - I prefer to go with RandomForest Predictor.  "
   ]
  },
  {
   "cell_type": "markdown",
   "metadata": {
    "colab_type": "text",
    "id": "DEOpqG3bdvbL"
   },
   "source": [
    "#### Additional Note: \n",
    "\n",
    "The feature importance can be plotted only on gradientboosting using sklearn. This shows which parameters are more important in our model. From the above diagram, we can see that the Uniform Cell Size is the biggest contributor for the cancel detection. Later, the Bare Nuclei and uniformity of cell shape are coming. It looks like the missing values in the Bare_Nuclei is not very effective in the model. We could have very well drop those rows and build our model on the existing data set. Nonetheless, any information (even missing information) is data, and it is always a good practice to try to make sense out of those as well other than throwing them away. There might be a reason that data is missing, and maybe it is systematically missing on the beging or malignant cells. We can not know this before the modelling. This GB modeling is showing that the missing info (row) are not as important as the other columns. "
   ]
  },
  {
   "cell_type": "markdown",
   "metadata": {
    "colab_type": "text",
    "id": "cPgCOGJQdvbM"
   },
   "source": [
    "#### We can apply a gridsearch to optimize the hyperparameters of the RandomForest and GradientBoosting, and see if we can obtain better results."
   ]
  },
  {
   "cell_type": "code",
   "execution_count": 0,
   "metadata": {
    "colab": {
     "autoexec": {
      "startup": false,
      "wait_interval": 0
     }
    },
    "colab_type": "code",
    "collapsed": true,
    "id": "ewE_s-f2dvbN"
   },
   "outputs": [],
   "source": [
    "from sklearn.model_selection import GridSearchCV\n",
    "from sklearn.datasets import make_classification"
   ]
  },
  {
   "cell_type": "code",
   "execution_count": 0,
   "metadata": {
    "colab": {
     "autoexec": {
      "startup": false,
      "wait_interval": 0
     }
    },
    "colab_type": "code",
    "collapsed": true,
    "id": "HCpOeAt2dvbR"
   },
   "outputs": [],
   "source": [
    "X, y = make_classification(n_samples=1000, n_features=10, n_informative=3, n_redundant=0, n_repeated=0, n_classes=2, random_state=0, shuffle=False)"
   ]
  },
  {
   "cell_type": "code",
   "execution_count": 0,
   "metadata": {
    "colab": {
     "autoexec": {
      "startup": false,
      "wait_interval": 0
     }
    },
    "colab_type": "code",
    "collapsed": true,
    "id": "E5jkct43dvbx"
   },
   "outputs": [],
   "source": [
    "rfc = RandomForestClassifier(n_jobs=-1, max_features= 'sqrt' ,n_estimators=50, oob_score = True) "
   ]
  },
  {
   "cell_type": "code",
   "execution_count": 0,
   "metadata": {
    "colab": {
     "autoexec": {
      "startup": false,
      "wait_interval": 0
     },
     "output_extras": [
      {}
     ]
    },
    "colab_type": "code",
    "id": "W5p3cmQgdvbz",
    "outputId": "b0b25e23-1da5-4fb0-f258-13995b10e29a"
   },
   "outputs": [
    {
     "data": {
      "text/plain": [
       "GridSearchCV(cv=5, error_score='raise',\n",
       "       estimator=RandomForestClassifier(bootstrap=True, class_weight=None, criterion='gini',\n",
       "            max_depth=None, max_features='sqrt', max_leaf_nodes=None,\n",
       "            min_impurity_split=1e-07, min_samples_leaf=1,\n",
       "            min_samples_split=2, min_weight_fraction_leaf=0.0,\n",
       "            n_estimators=50, n_jobs=-1, oob_score=True, random_state=None,\n",
       "            verbose=0, warm_start=False),\n",
       "       fit_params={}, iid=True, n_jobs=1,\n",
       "       param_grid={'n_estimators': [200, 700], 'max_features': ['auto', 'sqrt', 'log2'], 'max_depth': [1, 2, 3, 4, 5, 6, 7, 8, 9, 10]},\n",
       "       pre_dispatch='2*n_jobs', refit=True, return_train_score=True,\n",
       "       scoring=None, verbose=0)"
      ]
     },
     "execution_count": 81,
     "metadata": {
      "tags": []
     },
     "output_type": "execute_result"
    }
   ],
   "source": [
    "param_grid = {'n_estimators': [200, 700], 'max_features': ['auto', 'sqrt', 'log2'], 'max_depth': range(1,11)}\n",
    "CV_rfc = GridSearchCV(estimator=rfc, param_grid=param_grid, cv= 5)\n",
    "CV_rfc.fit(X, y)"
   ]
  },
  {
   "cell_type": "markdown",
   "metadata": {
    "colab_type": "text",
    "id": "bK1s6xyrdvb4"
   },
   "source": [
    "Below is the gridsearch results from RandomForrest without searching he max_depth. "
   ]
  },
  {
   "cell_type": "code",
   "execution_count": 0,
   "metadata": {
    "colab": {
     "autoexec": {
      "startup": false,
      "wait_interval": 0
     },
     "output_extras": [
      {}
     ]
    },
    "colab_type": "code",
    "id": "iOesOUSldvb4",
    "outputId": "c028b5b1-d45a-4930-a74e-5a761d70b10f"
   },
   "outputs": [
    {
     "data": {
      "text/plain": [
       "{'max_features': 'auto', 'n_estimators': 200}"
      ]
     },
     "execution_count": 75,
     "metadata": {
      "tags": []
     },
     "output_type": "execute_result"
    }
   ],
   "source": [
    "CV_rfc.best_params_"
   ]
  },
  {
   "cell_type": "code",
   "execution_count": 0,
   "metadata": {
    "colab": {
     "autoexec": {
      "startup": false,
      "wait_interval": 0
     }
    },
    "colab_type": "code",
    "collapsed": true,
    "id": "aiX4b_1_dvcG"
   },
   "outputs": [],
   "source": [
    "RF_Best = RandomForestClassifier(bootstrap=True, class_weight=None, criterion='gini',\n",
    "            max_depth=None, max_features='auto', max_leaf_nodes=None,\n",
    "            min_impurity_split=1e-07, min_samples_leaf=1,\n",
    "            min_samples_split=2, min_weight_fraction_leaf=0.0,\n",
    "            n_estimators=200, n_jobs=-1, oob_score=True, random_state=None,\n",
    "            verbose=0, warm_start=False)"
   ]
  },
  {
   "cell_type": "code",
   "execution_count": 0,
   "metadata": {
    "colab": {
     "autoexec": {
      "startup": false,
      "wait_interval": 0
     },
     "output_extras": [
      {}
     ]
    },
    "colab_type": "code",
    "id": "Wq8imfTtdvcS",
    "outputId": "fe23a676-9efa-4c40-ac3f-b4f6bb90b573"
   },
   "outputs": [
    {
     "data": {
      "text/plain": [
       "0.97142857142857142"
      ]
     },
     "execution_count": 77,
     "metadata": {
      "tags": []
     },
     "output_type": "execute_result"
    }
   ],
   "source": [
    "RF_Best.fit(X_train, y_train)\n",
    "y_predict = RF_Best.predict(X_test).astype(int)\n",
    "y_true = y_test.as_matrix()\n",
    "RF_Best.score(X_test, y_test)"
   ]
  },
  {
   "cell_type": "code",
   "execution_count": 0,
   "metadata": {
    "colab": {
     "autoexec": {
      "startup": false,
      "wait_interval": 0
     }
    },
    "colab_type": "code",
    "collapsed": true,
    "id": "j_a40a6Kdvcc"
   },
   "outputs": [],
   "source": [
    "y_RFBest_predict = RF_Best.predict(X_test)"
   ]
  },
  {
   "cell_type": "code",
   "execution_count": 0,
   "metadata": {
    "colab": {
     "autoexec": {
      "startup": false,
      "wait_interval": 0
     },
     "output_extras": [
      {}
     ]
    },
    "colab_type": "code",
    "id": "TzjzJvWgdvcp",
    "outputId": "cc93d4d6-8342-4a74-f801-83ad0ccfe650"
   },
   "outputs": [
    {
     "data": {
      "text/plain": [
       "array([[93,  2],\n",
       "       [ 2, 43]])"
      ]
     },
     "execution_count": 79,
     "metadata": {
      "tags": []
     },
     "output_type": "execute_result"
    }
   ],
   "source": [
    "confusion_matrix(y_test, y_RFBest_predict)"
   ]
  },
  {
   "cell_type": "code",
   "execution_count": 0,
   "metadata": {
    "colab": {
     "autoexec": {
      "startup": false,
      "wait_interval": 0
     },
     "output_extras": [
      {},
      {}
     ]
    },
    "colab_type": "code",
    "id": "2zfh2Y4edvcx",
    "outputId": "cb7fd60b-49cb-406b-cab1-b7b41c9407ae"
   },
   "outputs": [
    {
     "name": "stdout",
     "output_type": "stream",
     "text": [
      "Normalized confusion matrix\n",
      "[[ 0.97894737  0.02105263]\n",
      " [ 0.04444444  0.95555556]]\n"
     ]
    },
    {
     "data": {
      "image/png": "[encoded data removed]",
      "text/plain": [
       "<matplotlib.figure.Figure at 0x7f44d0060f10>"
      ]
     },
     "metadata": {
      "tags": []
     },
     "output_type": "display_data"
    }
   ],
   "source": [
    "plt.figure()\n",
    "import itertools\n",
    "plot_confusion_matrix(confusion_matrix(y_test, y_RFBest_predict), classes=classes, normalize=True,\n",
    "                      title='Normalized confusion matrix with GridSearch RF')\n",
    "\n",
    "plt.show()"
   ]
  },
  {
   "cell_type": "markdown",
   "metadata": {
    "colab_type": "text",
    "id": "Z3T4c1X0dvc7"
   },
   "source": [
    "The above gridsearch result from RandomForest resulted in slightly better FP value, while the other values are more less staying the same. I would say, there is not much of a difference. The score/accuracy is better than before : 97.14 % on the test set. "
   ]
  },
  {
   "cell_type": "code",
   "execution_count": 0,
   "metadata": {
    "colab": {
     "autoexec": {
      "startup": false,
      "wait_interval": 0
     },
     "output_extras": [
      {}
     ]
    },
    "colab_type": "code",
    "id": "8jl1DJS-dvdB",
    "outputId": "de804144-00dc-4dbb-e785-cff6f92ec57a"
   },
   "outputs": [
    {
     "data": {
      "text/plain": [
       "{'max_depth': 8, 'max_features': 'auto', 'n_estimators': 700}"
      ]
     },
     "execution_count": 82,
     "metadata": {
      "tags": []
     },
     "output_type": "execute_result"
    }
   ],
   "source": [
    "CV_rfc.best_params_"
   ]
  },
  {
   "cell_type": "code",
   "execution_count": 0,
   "metadata": {
    "colab": {
     "autoexec": {
      "startup": false,
      "wait_interval": 0
     }
    },
    "colab_type": "code",
    "collapsed": true,
    "id": "9bVMUBnpdvdD"
   },
   "outputs": [],
   "source": [
    "RF_w_max_depth = RandomForestClassifier(bootstrap=True, class_weight=None, criterion='gini',\n",
    "            max_depth=8, max_features='auto', max_leaf_nodes=None,\n",
    "            min_impurity_split=1e-07, min_samples_leaf=1,\n",
    "            min_samples_split=2, min_weight_fraction_leaf=0.0,\n",
    "            n_estimators=700, n_jobs=-1, oob_score=True, random_state=None,\n",
    "            verbose=0, warm_start=False)"
   ]
  },
  {
   "cell_type": "code",
   "execution_count": 0,
   "metadata": {
    "colab": {
     "autoexec": {
      "startup": false,
      "wait_interval": 0
     },
     "output_extras": [
      {}
     ]
    },
    "colab_type": "code",
    "id": "qAGvC5tbdvdF",
    "outputId": "ac8cd9a5-826e-497f-9bc9-3ba26bd4e89c"
   },
   "outputs": [
    {
     "data": {
      "text/plain": [
       "0.9642857142857143"
      ]
     },
     "execution_count": 84,
     "metadata": {
      "tags": []
     },
     "output_type": "execute_result"
    }
   ],
   "source": [
    "RF_w_max_depth.fit(X_train, y_train)\n",
    "y_predict = RF_w_max_depth.predict(X_test).astype(int)\n",
    "y_true = y_test.as_matrix()\n",
    "RF_w_max_depth.score(X_test, y_test)"
   ]
  },
  {
   "cell_type": "code",
   "execution_count": 0,
   "metadata": {
    "colab": {
     "autoexec": {
      "startup": false,
      "wait_interval": 0
     },
     "output_extras": [
      {}
     ]
    },
    "colab_type": "code",
    "id": "BASHowUedvdH",
    "outputId": "5700823d-749c-42e4-d048-29b21ff66e6b"
   },
   "outputs": [
    {
     "data": {
      "text/plain": [
       "array([[93,  2],\n",
       "       [ 3, 42]])"
      ]
     },
     "execution_count": 86,
     "metadata": {
      "tags": []
     },
     "output_type": "execute_result"
    }
   ],
   "source": [
    "y_RFBest_predict = RF_w_max_depth.predict(X_test)\n",
    "confusion_matrix(y_test, y_RFBest_predict)"
   ]
  },
  {
   "cell_type": "code",
   "execution_count": 0,
   "metadata": {
    "colab": {
     "autoexec": {
      "startup": false,
      "wait_interval": 0
     },
     "output_extras": [
      {},
      {}
     ]
    },
    "colab_type": "code",
    "id": "G6kwKZE_dvda",
    "outputId": "365ffb7b-2faf-4475-f8da-043a82f96322"
   },
   "outputs": [
    {
     "name": "stdout",
     "output_type": "stream",
     "text": [
      "Normalized confusion matrix\n",
      "[[ 0.97894737  0.02105263]\n",
      " [ 0.06666667  0.93333333]]\n"
     ]
    },
    {
     "data": {
      "image/png": "[encoded data removed]",
      "text/plain": [
       "<matplotlib.figure.Figure at 0x7f44cbf1d990>"
      ]
     },
     "metadata": {
      "tags": []
     },
     "output_type": "display_data"
    }
   ],
   "source": [
    "plt.figure()\n",
    "import itertools\n",
    "plot_confusion_matrix(confusion_matrix(y_test, y_RFBest_predict), classes=classes, normalize=True,\n",
    "                      title='Normalized confusion matrix with GridSearch RF w depth')\n",
    "\n",
    "plt.show()"
   ]
  },
  {
   "cell_type": "markdown",
   "metadata": {
    "colab_type": "text",
    "id": "KVDna2DRdvdc"
   },
   "source": [
    "Clearly, the no depth for the trees was showing a better fit. The best fitting condition fro RandomForest is RandomForestClassifier(bootstrap=True, class_weight=None, criterion='gini', \n",
    "            max_depth=None, max_features='auto', max_leaf_nodes=None,\n",
    "            min_impurity_split=1e-07, min_samples_leaf=1,\n",
    "            min_samples_split=2, min_weight_fraction_leaf=0.0,\n",
    "            n_estimators=200, n_jobs=-1, oob_score=True, random_state=None,\n",
    "            verbose=0, warm_start=False)"
   ]
  },
  {
   "cell_type": "code",
   "execution_count": 0,
   "metadata": {
    "colab": {
     "autoexec": {
      "startup": false,
      "wait_interval": 0
     },
     "output_extras": [
      {}
     ]
    },
    "colab_type": "code",
    "id": "EmY2mJyUdvdc",
    "outputId": "dca3ba6c-b8a4-4dfa-fd92-239672070db8"
   },
   "outputs": [
    {
     "name": "stderr",
     "output_type": "stream",
     "text": [
      "ERROR:root:Line magic function `%matplotlib.style` not found.\n"
     ]
    }
   ],
   "source": [
    "importances = RF_Best.feature_importances_\n",
    "%matplotlib.style('ggplot')"
   ]
  },
  {
   "cell_type": "code",
   "execution_count": 0,
   "metadata": {
    "colab": {
     "autoexec": {
      "startup": false,
      "wait_interval": 0
     },
     "output_extras": [
      {}
     ]
    },
    "colab_type": "code",
    "id": "2BZFLW3qdvde",
    "outputId": "81ba94f0-d862-4b0c-97a0-bd233333f46a"
   },
   "outputs": [
    {
     "data": {
      "image/png": "[encoded data removed]",
      "text/plain": [
       "<matplotlib.figure.Figure at 0x7f44d01cb950>"
      ]
     },
     "metadata": {
      "tags": []
     },
     "output_type": "display_data"
    }
   ],
   "source": [
    "importances = RF_Best.feature_importances_\n",
    "std = np.std([tree.feature_importances_ for tree in RF_Best.estimators_],\n",
    "             axis=0)\n",
    "indices = np.argsort(importances)[::-1]\n",
    "\n",
    "plt.figure(figsize=(28,8))\n",
    "plt.title(\"Feature importances\")\n",
    "plt.bar(range(X.shape[1]), importances[indices],\n",
    "       color=\"r\", yerr=std[indices], align=\"center\")\n",
    "# plt.xticks(range(X.shape[1]), X.columns[indices],rotation='vertical')\n",
    "plt.xlim([-1, X.shape[1]])\n",
    "plt.show();"
   ]
  },
  {
   "cell_type": "code",
   "execution_count": 0,
   "metadata": {
    "colab": {
     "autoexec": {
      "startup": false,
      "wait_interval": 0
     }
    },
    "colab_type": "code",
    "collapsed": true,
    "id": "OWGu3s8Advdh"
   },
   "outputs": [],
   "source": [
    "from sklearn import metrics"
   ]
  },
  {
   "cell_type": "code",
   "execution_count": 0,
   "metadata": {
    "colab": {
     "autoexec": {
      "startup": false,
      "wait_interval": 0
     }
    },
    "colab_type": "code",
    "collapsed": true,
    "id": "F1E9Tca1dvdj"
   },
   "outputs": [],
   "source": [
    "probs = RF_Best.predict_proba(X_test)"
   ]
  },
  {
   "cell_type": "code",
   "execution_count": 0,
   "metadata": {
    "colab": {
     "autoexec": {
      "startup": false,
      "wait_interval": 0
     },
     "output_extras": [
      {}
     ]
    },
    "colab_type": "code",
    "id": "b0tPG6dddvdk",
    "outputId": "08c4c979-9109-4595-e888-ff136f50f36b"
   },
   "outputs": [
    {
     "data": {
      "text/plain": [
       "array([[ 0.97 ,  0.03 ],\n",
       "       [ 1.   ,  0.   ],\n",
       "       [ 1.   ,  0.   ],\n",
       "       [ 0.17 ,  0.83 ],\n",
       "       [ 1.   ,  0.   ],\n",
       "       [ 1.   ,  0.   ],\n",
       "       [ 0.89 ,  0.11 ],\n",
       "       [ 0.03 ,  0.97 ],\n",
       "       [ 0.18 ,  0.82 ],\n",
       "       [ 0.785,  0.215],\n",
       "       [ 1.   ,  0.   ],\n",
       "       [ 0.235,  0.765],\n",
       "       [ 1.   ,  0.   ],\n",
       "       [ 1.   ,  0.   ],\n",
       "       [ 1.   ,  0.   ],\n",
       "       [ 0.03 ,  0.97 ],\n",
       "       [ 1.   ,  0.   ],\n",
       "       [ 0.02 ,  0.98 ],\n",
       "       [ 0.105,  0.895],\n",
       "       [ 0.27 ,  0.73 ],\n",
       "       [ 0.   ,  1.   ],\n",
       "       [ 1.   ,  0.   ],\n",
       "       [ 0.23 ,  0.77 ],\n",
       "       [ 1.   ,  0.   ],\n",
       "       [ 0.075,  0.925],\n",
       "       [ 1.   ,  0.   ],\n",
       "       [ 1.   ,  0.   ],\n",
       "       [ 0.035,  0.965],\n",
       "       [ 0.855,  0.145],\n",
       "       [ 0.025,  0.975],\n",
       "       [ 1.   ,  0.   ],\n",
       "       [ 1.   ,  0.   ],\n",
       "       [ 1.   ,  0.   ],\n",
       "       [ 0.135,  0.865],\n",
       "       [ 1.   ,  0.   ],\n",
       "       [ 1.   ,  0.   ],\n",
       "       [ 1.   ,  0.   ],\n",
       "       [ 0.   ,  1.   ],\n",
       "       [ 1.   ,  0.   ],\n",
       "       [ 0.095,  0.905],\n",
       "       [ 1.   ,  0.   ],\n",
       "       [ 0.835,  0.165],\n",
       "       [ 0.025,  0.975],\n",
       "       [ 1.   ,  0.   ],\n",
       "       [ 1.   ,  0.   ],\n",
       "       [ 1.   ,  0.   ],\n",
       "       [ 0.995,  0.005],\n",
       "       [ 0.46 ,  0.54 ],\n",
       "       [ 0.98 ,  0.02 ],\n",
       "       [ 0.605,  0.395],\n",
       "       [ 0.935,  0.065],\n",
       "       [ 1.   ,  0.   ],\n",
       "       [ 0.005,  0.995],\n",
       "       [ 1.   ,  0.   ],\n",
       "       [ 0.635,  0.365],\n",
       "       [ 0.985,  0.015],\n",
       "       [ 1.   ,  0.   ],\n",
       "       [ 0.005,  0.995],\n",
       "       [ 1.   ,  0.   ],\n",
       "       [ 1.   ,  0.   ],\n",
       "       [ 1.   ,  0.   ],\n",
       "       [ 1.   ,  0.   ],\n",
       "       [ 0.12 ,  0.88 ],\n",
       "       [ 0.995,  0.005],\n",
       "       [ 1.   ,  0.   ],\n",
       "       [ 1.   ,  0.   ],\n",
       "       [ 0.005,  0.995],\n",
       "       [ 0.06 ,  0.94 ],\n",
       "       [ 0.955,  0.045],\n",
       "       [ 1.   ,  0.   ],\n",
       "       [ 0.05 ,  0.95 ],\n",
       "       [ 1.   ,  0.   ],\n",
       "       [ 0.05 ,  0.95 ],\n",
       "       [ 1.   ,  0.   ],\n",
       "       [ 1.   ,  0.   ],\n",
       "       [ 1.   ,  0.   ],\n",
       "       [ 1.   ,  0.   ],\n",
       "       [ 0.18 ,  0.82 ],\n",
       "       [ 1.   ,  0.   ],\n",
       "       [ 1.   ,  0.   ],\n",
       "       [ 1.   ,  0.   ],\n",
       "       [ 1.   ,  0.   ],\n",
       "       [ 1.   ,  0.   ],\n",
       "       [ 1.   ,  0.   ],\n",
       "       [ 1.   ,  0.   ],\n",
       "       [ 0.   ,  1.   ],\n",
       "       [ 0.47 ,  0.53 ],\n",
       "       [ 1.   ,  0.   ],\n",
       "       [ 1.   ,  0.   ],\n",
       "       [ 1.   ,  0.   ],\n",
       "       [ 1.   ,  0.   ],\n",
       "       [ 1.   ,  0.   ],\n",
       "       [ 0.02 ,  0.98 ],\n",
       "       [ 0.845,  0.155],\n",
       "       [ 1.   ,  0.   ],\n",
       "       [ 0.055,  0.945],\n",
       "       [ 1.   ,  0.   ],\n",
       "       [ 1.   ,  0.   ],\n",
       "       [ 1.   ,  0.   ],\n",
       "       [ 1.   ,  0.   ],\n",
       "       [ 1.   ,  0.   ],\n",
       "       [ 0.97 ,  0.03 ],\n",
       "       [ 1.   ,  0.   ],\n",
       "       [ 0.13 ,  0.87 ],\n",
       "       [ 0.475,  0.525],\n",
       "       [ 1.   ,  0.   ],\n",
       "       [ 0.09 ,  0.91 ],\n",
       "       [ 0.995,  0.005],\n",
       "       [ 1.   ,  0.   ],\n",
       "       [ 0.19 ,  0.81 ],\n",
       "       [ 0.19 ,  0.81 ],\n",
       "       [ 0.905,  0.095],\n",
       "       [ 0.54 ,  0.46 ],\n",
       "       [ 0.425,  0.575],\n",
       "       [ 1.   ,  0.   ],\n",
       "       [ 0.16 ,  0.84 ],\n",
       "       [ 1.   ,  0.   ],\n",
       "       [ 1.   ,  0.   ],\n",
       "       [ 0.985,  0.015],\n",
       "       [ 1.   ,  0.   ],\n",
       "       [ 1.   ,  0.   ],\n",
       "       [ 0.025,  0.975],\n",
       "       [ 1.   ,  0.   ],\n",
       "       [ 1.   ,  0.   ],\n",
       "       [ 0.09 ,  0.91 ],\n",
       "       [ 0.135,  0.865],\n",
       "       [ 1.   ,  0.   ],\n",
       "       [ 0.925,  0.075],\n",
       "       [ 0.11 ,  0.89 ],\n",
       "       [ 0.27 ,  0.73 ],\n",
       "       [ 0.995,  0.005],\n",
       "       [ 1.   ,  0.   ],\n",
       "       [ 0.17 ,  0.83 ],\n",
       "       [ 1.   ,  0.   ],\n",
       "       [ 0.015,  0.985],\n",
       "       [ 1.   ,  0.   ],\n",
       "       [ 0.03 ,  0.97 ],\n",
       "       [ 0.985,  0.015],\n",
       "       [ 1.   ,  0.   ],\n",
       "       [ 0.83 ,  0.17 ]])"
      ]
     },
     "execution_count": 102,
     "metadata": {
      "tags": []
     },
     "output_type": "execute_result"
    }
   ],
   "source": [
    "probs"
   ]
  },
  {
   "cell_type": "code",
   "execution_count": 0,
   "metadata": {
    "colab": {
     "autoexec": {
      "startup": false,
      "wait_interval": 0
     },
     "output_extras": [
      {}
     ]
    },
    "colab_type": "code",
    "id": "gJz7emVYdvdm",
    "outputId": "96169a67-467f-4626-9c57-f9c8094b3609"
   },
   "outputs": [
    {
     "data": {
      "text/plain": [
       "array([ 0.97 ,  1.   ,  1.   ,  0.17 ,  1.   ,  1.   ,  0.89 ,  0.03 ,\n",
       "        0.18 ,  0.785,  1.   ,  0.235,  1.   ,  1.   ,  1.   ,  0.03 ,\n",
       "        1.   ,  0.02 ,  0.105,  0.27 ,  0.   ,  1.   ,  0.23 ,  1.   ,\n",
       "        0.075,  1.   ,  1.   ,  0.035,  0.855,  0.025,  1.   ,  1.   ,\n",
       "        1.   ,  0.135,  1.   ,  1.   ,  1.   ,  0.   ,  1.   ,  0.095,\n",
       "        1.   ,  0.835,  0.025,  1.   ,  1.   ,  1.   ,  0.995,  0.46 ,\n",
       "        0.98 ,  0.605,  0.935,  1.   ,  0.005,  1.   ,  0.635,  0.985,\n",
       "        1.   ,  0.005,  1.   ,  1.   ,  1.   ,  1.   ,  0.12 ,  0.995,\n",
       "        1.   ,  1.   ,  0.005,  0.06 ,  0.955,  1.   ,  0.05 ,  1.   ,\n",
       "        0.05 ,  1.   ,  1.   ,  1.   ,  1.   ,  0.18 ,  1.   ,  1.   ,\n",
       "        1.   ,  1.   ,  1.   ,  1.   ,  1.   ,  0.   ,  0.47 ,  1.   ,\n",
       "        1.   ,  1.   ,  1.   ,  1.   ,  0.02 ,  0.845,  1.   ,  0.055,\n",
       "        1.   ,  1.   ,  1.   ,  1.   ,  1.   ,  0.97 ,  1.   ,  0.13 ,\n",
       "        0.475,  1.   ,  0.09 ,  0.995,  1.   ,  0.19 ,  0.19 ,  0.905,\n",
       "        0.54 ,  0.425,  1.   ,  0.16 ,  1.   ,  1.   ,  0.985,  1.   ,\n",
       "        1.   ,  0.025,  1.   ,  1.   ,  0.09 ,  0.135,  1.   ,  0.925,\n",
       "        0.11 ,  0.27 ,  0.995,  1.   ,  0.17 ,  1.   ,  0.015,  1.   ,\n",
       "        0.03 ,  0.985,  1.   ,  0.83 ])"
      ]
     },
     "execution_count": 108,
     "metadata": {
      "tags": []
     },
     "output_type": "execute_result"
    }
   ],
   "source": [
    "probs[:, 0]"
   ]
  },
  {
   "cell_type": "code",
   "execution_count": 0,
   "metadata": {
    "colab": {
     "autoexec": {
      "startup": false,
      "wait_interval": 0
     },
     "output_extras": [
      {}
     ]
    },
    "colab_type": "code",
    "id": "2tD_aW5xdvdp",
    "outputId": "081d6f46-d65e-4848-af2d-ea7024f34d49"
   },
   "outputs": [
    {
     "data": {
      "text/plain": [
       "158    2.0\n",
       "499    2.0\n",
       "396    2.0\n",
       "155    4.0\n",
       "321    2.0\n",
       "212    2.0\n",
       "234    2.0\n",
       "289    4.0\n",
       "300    4.0\n",
       "356    4.0\n",
       "672    2.0\n",
       "328    4.0\n",
       "199    2.0\n",
       "78     2.0\n",
       "598    2.0\n",
       "569    4.0\n",
       "446    2.0\n",
       "506    4.0\n",
       "626    4.0\n",
       "603    4.0\n",
       "360    4.0\n",
       "338    2.0\n",
       "668    4.0\n",
       "290    2.0\n",
       "284    4.0\n",
       "331    2.0\n",
       "477    2.0\n",
       "54     4.0\n",
       "248    2.0\n",
       "223    4.0\n",
       "      ... \n",
       "259    2.0\n",
       "422    2.0\n",
       "6      2.0\n",
       "101    4.0\n",
       "542    2.0\n",
       "299    4.0\n",
       "395    2.0\n",
       "501    2.0\n",
       "318    2.0\n",
       "145    2.0\n",
       "486    2.0\n",
       "353    4.0\n",
       "208    2.0\n",
       "695    2.0\n",
       "361    4.0\n",
       "86     4.0\n",
       "664    2.0\n",
       "481    2.0\n",
       "633    4.0\n",
       "41     4.0\n",
       "108    2.0\n",
       "690    2.0\n",
       "56     4.0\n",
       "424    2.0\n",
       "514    4.0\n",
       "24     2.0\n",
       "218    4.0\n",
       "431    2.0\n",
       "281    2.0\n",
       "110    2.0\n",
       "Name: Class, Length: 140, dtype: float64"
      ]
     },
     "execution_count": 104,
     "metadata": {
      "tags": []
     },
     "output_type": "execute_result"
    }
   ],
   "source": [
    "y_test"
   ]
  },
  {
   "cell_type": "code",
   "execution_count": 0,
   "metadata": {
    "colab": {
     "autoexec": {
      "startup": false,
      "wait_interval": 0
     },
     "output_extras": [
      {}
     ]
    },
    "colab_type": "code",
    "id": "NzCwiOnVdvdr",
    "outputId": "58252905-969d-4b30-833d-78277eaf77f4"
   },
   "outputs": [
    {
     "name": "stdout",
     "output_type": "stream",
     "text": [
      "140\n",
      "140\n"
     ]
    }
   ],
   "source": [
    "y_test_binary = []\n",
    "for y in y_test:\n",
    "    if y == 2.0:\n",
    "        y_test_binary.append(1)\n",
    "    elif y == 4.0:\n",
    "        y_test_binary.append(0)\n",
    "        \n",
    "print len(y_test_binary)\n",
    "print len(y_test)"
   ]
  },
  {
   "cell_type": "code",
   "execution_count": 0,
   "metadata": {
    "colab": {
     "autoexec": {
      "startup": false,
      "wait_interval": 0
     }
    },
    "colab_type": "code",
    "id": "WqJS4RyBdvdt"
   },
   "outputs": [],
   "source": [
    "fpr, tpr, threshs = metrics.roc_curve(y_test_binary, probs[:, 0])"
   ]
  },
  {
   "cell_type": "code",
   "execution_count": 0,
   "metadata": {
    "colab": {
     "autoexec": {
      "startup": false,
      "wait_interval": 0
     },
     "output_extras": [
      {}
     ]
    },
    "colab_type": "code",
    "id": "NpN98OzPdvdu",
    "outputId": "0433c35a-376a-4721-b8ce-3c3b365e6130"
   },
   "outputs": [
    {
     "data": {
      "text/plain": [
       "140"
      ]
     },
     "execution_count": 126,
     "metadata": {
      "tags": []
     },
     "output_type": "execute_result"
    }
   ],
   "source": [
    "y_test.shape[0]"
   ]
  },
  {
   "cell_type": "code",
   "execution_count": 0,
   "metadata": {
    "colab": {
     "autoexec": {
      "startup": false,
      "wait_interval": 0
     },
     "output_extras": [
      {}
     ]
    },
    "colab_type": "code",
    "id": "o2g8v3pidvdx",
    "outputId": "180a092c-c551-4259-d77e-bb1ff4e4e6e3"
   },
   "outputs": [
    {
     "ename": "ValueError",
     "evalue": "bad input shape (140, 2)",
     "output_type": "error",
     "traceback": [
      "\u001b[0;31m---------------------------------------------------------------------------\u001b[0m",
      "\u001b[0;31mValueError\u001b[0m                                Traceback (most recent call last)",
      "\u001b[0;32m<ipython-input-130-47f8d9d2e2e5>\u001b[0m in \u001b[0;36m<module>\u001b[0;34m()\u001b[0m\n\u001b[1;32m      1\u001b[0m \u001b[0mn_classes\u001b[0m \u001b[0;34m=\u001b[0m \u001b[0mlen\u001b[0m\u001b[0;34m(\u001b[0m\u001b[0my_test_binary\u001b[0m\u001b[0;34m)\u001b[0m\u001b[0;34m\u001b[0m\u001b[0m\n\u001b[1;32m      2\u001b[0m \u001b[0;31m#for i in range(n_classes):\u001b[0m\u001b[0;34m\u001b[0m\u001b[0;34m\u001b[0m\u001b[0m\n\u001b[0;32m----> 3\u001b[0;31m \u001b[0mfpr\u001b[0m\u001b[0;34m,\u001b[0m \u001b[0mtpr\u001b[0m\u001b[0;34m,\u001b[0m \u001b[0m_\u001b[0m \u001b[0;34m=\u001b[0m \u001b[0mroc_curve\u001b[0m\u001b[0;34m(\u001b[0m\u001b[0my_test_binary\u001b[0m\u001b[0;34m,\u001b[0m \u001b[0mprobs\u001b[0m\u001b[0;34m)\u001b[0m\u001b[0;34m\u001b[0m\u001b[0m\n\u001b[0m\u001b[1;32m      4\u001b[0m \u001b[0mroc_auc\u001b[0m \u001b[0;34m=\u001b[0m \u001b[0mauc\u001b[0m\u001b[0;34m(\u001b[0m\u001b[0mfpr\u001b[0m\u001b[0;34m,\u001b[0m \u001b[0mtpr\u001b[0m\u001b[0;34m)\u001b[0m\u001b[0;34m\u001b[0m\u001b[0m\n",
      "\u001b[0;32m/home/selintosun/anaconda2/lib/python2.7/site-packages/sklearn/metrics/ranking.pyc\u001b[0m in \u001b[0;36mroc_curve\u001b[0;34m(y_true, y_score, pos_label, sample_weight, drop_intermediate)\u001b[0m\n\u001b[1;32m    503\u001b[0m     \"\"\"\n\u001b[1;32m    504\u001b[0m     fps, tps, thresholds = _binary_clf_curve(\n\u001b[0;32m--> 505\u001b[0;31m         y_true, y_score, pos_label=pos_label, sample_weight=sample_weight)\n\u001b[0m\u001b[1;32m    506\u001b[0m \u001b[0;34m\u001b[0m\u001b[0m\n\u001b[1;32m    507\u001b[0m     \u001b[0;31m# Attempt to drop thresholds corresponding to points in between and\u001b[0m\u001b[0;34m\u001b[0m\u001b[0;34m\u001b[0m\u001b[0m\n",
      "\u001b[0;32m/home/selintosun/anaconda2/lib/python2.7/site-packages/sklearn/metrics/ranking.pyc\u001b[0m in \u001b[0;36m_binary_clf_curve\u001b[0;34m(y_true, y_score, pos_label, sample_weight)\u001b[0m\n\u001b[1;32m    297\u001b[0m     \u001b[0mcheck_consistent_length\u001b[0m\u001b[0;34m(\u001b[0m\u001b[0my_true\u001b[0m\u001b[0;34m,\u001b[0m \u001b[0my_score\u001b[0m\u001b[0;34m)\u001b[0m\u001b[0;34m\u001b[0m\u001b[0m\n\u001b[1;32m    298\u001b[0m     \u001b[0my_true\u001b[0m \u001b[0;34m=\u001b[0m \u001b[0mcolumn_or_1d\u001b[0m\u001b[0;34m(\u001b[0m\u001b[0my_true\u001b[0m\u001b[0;34m)\u001b[0m\u001b[0;34m\u001b[0m\u001b[0m\n\u001b[0;32m--> 299\u001b[0;31m     \u001b[0my_score\u001b[0m \u001b[0;34m=\u001b[0m \u001b[0mcolumn_or_1d\u001b[0m\u001b[0;34m(\u001b[0m\u001b[0my_score\u001b[0m\u001b[0;34m)\u001b[0m\u001b[0;34m\u001b[0m\u001b[0m\n\u001b[0m\u001b[1;32m    300\u001b[0m     \u001b[0massert_all_finite\u001b[0m\u001b[0;34m(\u001b[0m\u001b[0my_true\u001b[0m\u001b[0;34m)\u001b[0m\u001b[0;34m\u001b[0m\u001b[0m\n\u001b[1;32m    301\u001b[0m     \u001b[0massert_all_finite\u001b[0m\u001b[0;34m(\u001b[0m\u001b[0my_score\u001b[0m\u001b[0;34m)\u001b[0m\u001b[0;34m\u001b[0m\u001b[0m\n",
      "\u001b[0;32m/home/selintosun/anaconda2/lib/python2.7/site-packages/sklearn/utils/validation.pyc\u001b[0m in \u001b[0;36mcolumn_or_1d\u001b[0;34m(y, warn)\u001b[0m\n\u001b[1;32m    560\u001b[0m         \u001b[0;32mreturn\u001b[0m \u001b[0mnp\u001b[0m\u001b[0;34m.\u001b[0m\u001b[0mravel\u001b[0m\u001b[0;34m(\u001b[0m\u001b[0my\u001b[0m\u001b[0;34m)\u001b[0m\u001b[0;34m\u001b[0m\u001b[0m\n\u001b[1;32m    561\u001b[0m \u001b[0;34m\u001b[0m\u001b[0m\n\u001b[0;32m--> 562\u001b[0;31m     \u001b[0;32mraise\u001b[0m \u001b[0mValueError\u001b[0m\u001b[0;34m(\u001b[0m\u001b[0;34m\"bad input shape {0}\"\u001b[0m\u001b[0;34m.\u001b[0m\u001b[0mformat\u001b[0m\u001b[0;34m(\u001b[0m\u001b[0mshape\u001b[0m\u001b[0;34m)\u001b[0m\u001b[0;34m)\u001b[0m\u001b[0;34m\u001b[0m\u001b[0m\n\u001b[0m\u001b[1;32m    563\u001b[0m \u001b[0;34m\u001b[0m\u001b[0m\n\u001b[1;32m    564\u001b[0m \u001b[0;34m\u001b[0m\u001b[0m\n",
      "\u001b[0;31mValueError\u001b[0m: bad input shape (140, 2)"
     ]
    }
   ],
   "source": [
    "n_classes = len(y_test_binary)\n",
    "#for i in range(n_classes):\n",
    "fpr, tpr, _ = roc_curve(y_test_binary, probs)\n",
    "roc_auc = auc(fpr, tpr)"
   ]
  },
  {
   "cell_type": "code",
   "execution_count": 0,
   "metadata": {
    "colab": {
     "autoexec": {
      "startup": false,
      "wait_interval": 0
     },
     "output_extras": [
      {},
      {}
     ]
    },
    "colab_type": "code",
    "collapsed": true,
    "id": "Jg1Ni7fcdvdz",
    "outputId": "c824f31d-85d7-4f19-f093-afdaae6bdaf2"
   },
   "outputs": [
    {
     "ename": "NameError",
     "evalue": "name 'roc_auc' is not defined",
     "output_type": "error",
     "traceback": [
      "\u001b[0;31m---------------------------------------------------------------------------\u001b[0m",
      "\u001b[0;31mNameError\u001b[0m                                 Traceback (most recent call last)",
      "\u001b[0;32m<ipython-input-116-94ea64ab78cf>\u001b[0m in \u001b[0;36m<module>\u001b[0;34m()\u001b[0m\n\u001b[1;32m      2\u001b[0m \u001b[0mlw\u001b[0m \u001b[0;34m=\u001b[0m \u001b[0;36m2\u001b[0m\u001b[0;34m\u001b[0m\u001b[0m\n\u001b[1;32m      3\u001b[0m plt.plot(fpr[2], tpr[2], color='darkorange',\n\u001b[0;32m----> 4\u001b[0;31m          lw=lw, label='ROC curve (area = %0.2f)' % roc_auc[2])\n\u001b[0m\u001b[1;32m      5\u001b[0m \u001b[0mplt\u001b[0m\u001b[0;34m.\u001b[0m\u001b[0mplot\u001b[0m\u001b[0;34m(\u001b[0m\u001b[0;34m[\u001b[0m\u001b[0;36m0\u001b[0m\u001b[0;34m,\u001b[0m \u001b[0;36m1\u001b[0m\u001b[0;34m]\u001b[0m\u001b[0;34m,\u001b[0m \u001b[0;34m[\u001b[0m\u001b[0;36m0\u001b[0m\u001b[0;34m,\u001b[0m \u001b[0;36m1\u001b[0m\u001b[0;34m]\u001b[0m\u001b[0;34m,\u001b[0m \u001b[0mcolor\u001b[0m\u001b[0;34m=\u001b[0m\u001b[0;34m'navy'\u001b[0m\u001b[0;34m,\u001b[0m \u001b[0mlw\u001b[0m\u001b[0;34m=\u001b[0m\u001b[0mlw\u001b[0m\u001b[0;34m,\u001b[0m \u001b[0mlinestyle\u001b[0m\u001b[0;34m=\u001b[0m\u001b[0;34m'--'\u001b[0m\u001b[0;34m)\u001b[0m\u001b[0;34m\u001b[0m\u001b[0m\n\u001b[1;32m      6\u001b[0m \u001b[0mplt\u001b[0m\u001b[0;34m.\u001b[0m\u001b[0mxlim\u001b[0m\u001b[0;34m(\u001b[0m\u001b[0;34m[\u001b[0m\u001b[0;36m0.0\u001b[0m\u001b[0;34m,\u001b[0m \u001b[0;36m1.0\u001b[0m\u001b[0;34m]\u001b[0m\u001b[0;34m)\u001b[0m\u001b[0;34m\u001b[0m\u001b[0m\n",
      "\u001b[0;31mNameError\u001b[0m: name 'roc_auc' is not defined"
     ]
    },
    {
     "data": {
      "text/plain": [
       "<matplotlib.figure.Figure at 0x7f44d1eeb990>"
      ]
     },
     "metadata": {
      "tags": []
     },
     "output_type": "display_data"
    }
   ],
   "source": [
    "plt.figure()\n",
    "lw = 2\n",
    "plt.plot(fpr[2], tpr[2], color='darkorange',\n",
    "         lw=lw, label='ROC curve (area = %0.2f)' % roc_auc[2])\n",
    "plt.plot([0, 1], [0, 1], color='navy', lw=lw, linestyle='--')\n",
    "plt.xlim([0.0, 1.0])\n",
    "plt.ylim([0.0, 1.05])\n",
    "plt.xlabel('False Positive Rate')\n",
    "plt.ylabel('True Positive Rate')\n",
    "plt.title('Receiver operating characteristic example')\n",
    "plt.legend(loc=\"lower right\")\n",
    "plt.show();"
   ]
  },
  {
   "cell_type": "code",
   "execution_count": 0,
   "metadata": {
    "colab": {
     "autoexec": {
      "startup": false,
      "wait_interval": 0
     }
    },
    "colab_type": "code",
    "collapsed": true,
    "id": "rw-8EIIodvd1"
   },
   "outputs": [],
   "source": [
    "from sklearn.preprocessing import label_binarize"
   ]
  },
  {
   "cell_type": "code",
   "execution_count": 0,
   "metadata": {
    "colab": {
     "autoexec": {
      "startup": false,
      "wait_interval": 0
     }
    },
    "colab_type": "code",
    "collapsed": true,
    "id": "zTxb5pa3dvd3"
   },
   "outputs": [],
   "source": []
  }
 ],
 "metadata": {
  "colab": {
   "default_view": {},
   "name": "SelinTosun_DataChallenge1.ipynb",
   "provenance": [],
   "version": "0.3.2",
   "views": {}
  },
  "kernelspec": {
   "display_name": "Python 2",
   "language": "python",
   "name": "python2"
  },
  "language_info": {
   "codemirror_mode": {
    "name": "ipython",
    "version": 2
   },
   "file_extension": ".py",
   "mimetype": "text/x-python",
   "name": "python",
   "nbconvert_exporter": "python",
   "pygments_lexer": "ipython2",
   "version": "2.7.14"
  }
 },
 "nbformat": 4,
 "nbformat_minor": 1
}
